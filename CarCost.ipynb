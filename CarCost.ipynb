{
  "nbformat": 4,
  "nbformat_minor": 0,
  "metadata": {
    "colab": {
      "provenance": []
    },
    "kernelspec": {
      "name": "python3",
      "display_name": "Python 3"
    },
    "language_info": {
      "name": "python"
    }
  },
  "cells": [
    {
      "cell_type": "markdown",
      "source": [
        "#Оценка стоимости автомобиля"
      ],
      "metadata": {
        "id": "2lUx9mZ8Vbeq"
      }
    },
    {
      "cell_type": "markdown",
      "source": [
        "##1. Описание задачи\n",
        "Датасет содержит более 19000 записей об автомобилях и их признаках, включающих стоимость. Требуется предсказать цену автомобиля по остальным признакам. Это задача восстановления регрессии."
      ],
      "metadata": {
        "id": "L-VSvpPH_VBF"
      }
    },
    {
      "cell_type": "markdown",
      "source": [
        "##Описание признаков\n",
        "- ID - идентификатор автомобиля\n",
        "- Price - цена автомобиля (в долларах США)\n",
        "- Levy - годовой налоговый сбор в (долларах США)\n",
        "- Manufacturer - производитель\n",
        "- Model - модель\n",
        "- Prod. year - год выпуска\n",
        "- Category - тип автомобиля (джип, седан и т.д.)\n",
        "- Leather interior - кожаный салон\n",
        "- Fuel type - тип топлива\n",
        "- Engine volume - объём двигателя\n",
        "- Mileage - пробег (км)\n",
        "- Cylinders - число цилиндров в двигателе\n",
        "- Gear box type - тип коробки передач\n",
        "- Drive wheels - привод\n",
        "- Doors - сколько дверный автомобиль\n",
        "- Wheel - с какой стороны руль\n",
        "- Color - цвет автомобиля\n",
        "- Airbags - колличество подушек безопасности\n"
      ],
      "metadata": {
        "id": "oq3MExiWCZv-"
      }
    },
    {
      "cell_type": "code",
      "execution_count": 1,
      "metadata": {
        "id": "QGZdsm6jVUDK"
      },
      "outputs": [],
      "source": [
        "import numpy as np\n",
        "import pandas as pd\n",
        "import matplotlib.pyplot as plt\n",
        "import seaborn as sns\n",
        "import sklearn\n",
        "import sklearn.model_selection"
      ]
    },
    {
      "cell_type": "code",
      "source": [
        "url = \"https://raw.githubusercontent.com/TriangularSquare/ML/main/car_price_prediction.csv\"\n",
        "dataset = pd.read_csv(url)"
      ],
      "metadata": {
        "id": "cSThi40OVtL6"
      },
      "execution_count": 2,
      "outputs": []
    },
    {
      "cell_type": "code",
      "source": [
        "# Число объектов и признаков\n",
        "dataset.shape"
      ],
      "metadata": {
        "id": "qpBBuKZRWe7C",
        "colab": {
          "base_uri": "https://localhost:8080/"
        },
        "outputId": "05a18713-156c-4d74-faa4-db29c12aa90e"
      },
      "execution_count": 3,
      "outputs": [
        {
          "output_type": "execute_result",
          "data": {
            "text/plain": [
              "(19237, 18)"
            ]
          },
          "metadata": {},
          "execution_count": 3
        }
      ]
    },
    {
      "cell_type": "code",
      "source": [
        "dataset.head(15)"
      ],
      "metadata": {
        "id": "c9c5oDvg4roS",
        "colab": {
          "base_uri": "https://localhost:8080/",
          "height": 520
        },
        "outputId": "dbd1920e-fb38-4bb7-c98f-37cc10f756d9"
      },
      "execution_count": 4,
      "outputs": [
        {
          "output_type": "execute_result",
          "data": {
            "text/plain": [
              "          ID  Price  Levy   Manufacturer     Model  Prod. year     Category  \\\n",
              "0   45654403  13328  1399          LEXUS    RX 450        2010         Jeep   \n",
              "1   44731507  16621  1018      CHEVROLET   Equinox        2011         Jeep   \n",
              "2   45774419   8467     -          HONDA       FIT        2006    Hatchback   \n",
              "3   45769185   3607   862           FORD    Escape        2011         Jeep   \n",
              "4   45809263  11726   446          HONDA       FIT        2014    Hatchback   \n",
              "5   45802912  39493   891        HYUNDAI  Santa FE        2016         Jeep   \n",
              "6   45656768   1803   761         TOYOTA     Prius        2010    Hatchback   \n",
              "7   45816158    549   751        HYUNDAI    Sonata        2013        Sedan   \n",
              "8   45641395   1098   394         TOYOTA     Camry        2014        Sedan   \n",
              "9   45756839  26657     -          LEXUS    RX 350        2007         Jeep   \n",
              "10  45621750    941  1053  MERCEDES-BENZ     E 350        2014        Sedan   \n",
              "11  45814819   8781     -           FORD   Transit        1999     Microbus   \n",
              "12  45815568   3000     -           OPEL    Vectra        1997  Goods wagon   \n",
              "13  45661288   1019  1055          LEXUS    RX 450        2013         Jeep   \n",
              "14  45732604  59464   891        HYUNDAI  Santa FE        2016         Jeep   \n",
              "\n",
              "   Leather interior Fuel type Engine volume    Mileage  Cylinders  \\\n",
              "0               Yes    Hybrid           3.5  186005 km        6.0   \n",
              "1                No    Petrol             3  192000 km        6.0   \n",
              "2                No    Petrol           1.3  200000 km        4.0   \n",
              "3               Yes    Hybrid           2.5  168966 km        4.0   \n",
              "4               Yes    Petrol           1.3   91901 km        4.0   \n",
              "5               Yes    Diesel             2  160931 km        4.0   \n",
              "6               Yes    Hybrid           1.8  258909 km        4.0   \n",
              "7               Yes    Petrol           2.4  216118 km        4.0   \n",
              "8               Yes    Hybrid           2.5  398069 km        4.0   \n",
              "9               Yes    Petrol           3.5  128500 km        6.0   \n",
              "10              Yes    Diesel           3.5  184467 km        6.0   \n",
              "11               No       CNG             4       0 km        8.0   \n",
              "12               No       CNG           1.6  350000 km        4.0   \n",
              "13              Yes    Hybrid           3.5  138038 km        6.0   \n",
              "14              Yes    Diesel             2   76000 km        4.0   \n",
              "\n",
              "   Gear box type Drive wheels   Doors             Wheel   Color  Airbags  \n",
              "0      Automatic          4x4  04-May        Left wheel  Silver       12  \n",
              "1      Tiptronic          4x4  04-May        Left wheel   Black        8  \n",
              "2       Variator        Front  04-May  Right-hand drive   Black        2  \n",
              "3      Automatic          4x4  04-May        Left wheel   White        0  \n",
              "4      Automatic        Front  04-May        Left wheel  Silver        4  \n",
              "5      Automatic        Front  04-May        Left wheel   White        4  \n",
              "6      Automatic        Front  04-May        Left wheel   White       12  \n",
              "7      Automatic        Front  04-May        Left wheel    Grey       12  \n",
              "8      Automatic        Front  04-May        Left wheel   Black       12  \n",
              "9      Automatic          4x4  04-May        Left wheel  Silver       12  \n",
              "10     Automatic         Rear  04-May        Left wheel   White       12  \n",
              "11        Manual         Rear  02-Mar        Left wheel    Blue        0  \n",
              "12        Manual        Front  04-May        Left wheel   White        4  \n",
              "13     Automatic        Front  04-May        Left wheel   White       12  \n",
              "14     Automatic        Front  04-May        Left wheel   White        4  "
            ],
            "text/html": [
              "\n",
              "  <div id=\"df-26fc0a13-e0a7-4e75-88d5-6ae452e61c28\" class=\"colab-df-container\">\n",
              "    <div>\n",
              "<style scoped>\n",
              "    .dataframe tbody tr th:only-of-type {\n",
              "        vertical-align: middle;\n",
              "    }\n",
              "\n",
              "    .dataframe tbody tr th {\n",
              "        vertical-align: top;\n",
              "    }\n",
              "\n",
              "    .dataframe thead th {\n",
              "        text-align: right;\n",
              "    }\n",
              "</style>\n",
              "<table border=\"1\" class=\"dataframe\">\n",
              "  <thead>\n",
              "    <tr style=\"text-align: right;\">\n",
              "      <th></th>\n",
              "      <th>ID</th>\n",
              "      <th>Price</th>\n",
              "      <th>Levy</th>\n",
              "      <th>Manufacturer</th>\n",
              "      <th>Model</th>\n",
              "      <th>Prod. year</th>\n",
              "      <th>Category</th>\n",
              "      <th>Leather interior</th>\n",
              "      <th>Fuel type</th>\n",
              "      <th>Engine volume</th>\n",
              "      <th>Mileage</th>\n",
              "      <th>Cylinders</th>\n",
              "      <th>Gear box type</th>\n",
              "      <th>Drive wheels</th>\n",
              "      <th>Doors</th>\n",
              "      <th>Wheel</th>\n",
              "      <th>Color</th>\n",
              "      <th>Airbags</th>\n",
              "    </tr>\n",
              "  </thead>\n",
              "  <tbody>\n",
              "    <tr>\n",
              "      <th>0</th>\n",
              "      <td>45654403</td>\n",
              "      <td>13328</td>\n",
              "      <td>1399</td>\n",
              "      <td>LEXUS</td>\n",
              "      <td>RX 450</td>\n",
              "      <td>2010</td>\n",
              "      <td>Jeep</td>\n",
              "      <td>Yes</td>\n",
              "      <td>Hybrid</td>\n",
              "      <td>3.5</td>\n",
              "      <td>186005 km</td>\n",
              "      <td>6.0</td>\n",
              "      <td>Automatic</td>\n",
              "      <td>4x4</td>\n",
              "      <td>04-May</td>\n",
              "      <td>Left wheel</td>\n",
              "      <td>Silver</td>\n",
              "      <td>12</td>\n",
              "    </tr>\n",
              "    <tr>\n",
              "      <th>1</th>\n",
              "      <td>44731507</td>\n",
              "      <td>16621</td>\n",
              "      <td>1018</td>\n",
              "      <td>CHEVROLET</td>\n",
              "      <td>Equinox</td>\n",
              "      <td>2011</td>\n",
              "      <td>Jeep</td>\n",
              "      <td>No</td>\n",
              "      <td>Petrol</td>\n",
              "      <td>3</td>\n",
              "      <td>192000 km</td>\n",
              "      <td>6.0</td>\n",
              "      <td>Tiptronic</td>\n",
              "      <td>4x4</td>\n",
              "      <td>04-May</td>\n",
              "      <td>Left wheel</td>\n",
              "      <td>Black</td>\n",
              "      <td>8</td>\n",
              "    </tr>\n",
              "    <tr>\n",
              "      <th>2</th>\n",
              "      <td>45774419</td>\n",
              "      <td>8467</td>\n",
              "      <td>-</td>\n",
              "      <td>HONDA</td>\n",
              "      <td>FIT</td>\n",
              "      <td>2006</td>\n",
              "      <td>Hatchback</td>\n",
              "      <td>No</td>\n",
              "      <td>Petrol</td>\n",
              "      <td>1.3</td>\n",
              "      <td>200000 km</td>\n",
              "      <td>4.0</td>\n",
              "      <td>Variator</td>\n",
              "      <td>Front</td>\n",
              "      <td>04-May</td>\n",
              "      <td>Right-hand drive</td>\n",
              "      <td>Black</td>\n",
              "      <td>2</td>\n",
              "    </tr>\n",
              "    <tr>\n",
              "      <th>3</th>\n",
              "      <td>45769185</td>\n",
              "      <td>3607</td>\n",
              "      <td>862</td>\n",
              "      <td>FORD</td>\n",
              "      <td>Escape</td>\n",
              "      <td>2011</td>\n",
              "      <td>Jeep</td>\n",
              "      <td>Yes</td>\n",
              "      <td>Hybrid</td>\n",
              "      <td>2.5</td>\n",
              "      <td>168966 km</td>\n",
              "      <td>4.0</td>\n",
              "      <td>Automatic</td>\n",
              "      <td>4x4</td>\n",
              "      <td>04-May</td>\n",
              "      <td>Left wheel</td>\n",
              "      <td>White</td>\n",
              "      <td>0</td>\n",
              "    </tr>\n",
              "    <tr>\n",
              "      <th>4</th>\n",
              "      <td>45809263</td>\n",
              "      <td>11726</td>\n",
              "      <td>446</td>\n",
              "      <td>HONDA</td>\n",
              "      <td>FIT</td>\n",
              "      <td>2014</td>\n",
              "      <td>Hatchback</td>\n",
              "      <td>Yes</td>\n",
              "      <td>Petrol</td>\n",
              "      <td>1.3</td>\n",
              "      <td>91901 km</td>\n",
              "      <td>4.0</td>\n",
              "      <td>Automatic</td>\n",
              "      <td>Front</td>\n",
              "      <td>04-May</td>\n",
              "      <td>Left wheel</td>\n",
              "      <td>Silver</td>\n",
              "      <td>4</td>\n",
              "    </tr>\n",
              "    <tr>\n",
              "      <th>5</th>\n",
              "      <td>45802912</td>\n",
              "      <td>39493</td>\n",
              "      <td>891</td>\n",
              "      <td>HYUNDAI</td>\n",
              "      <td>Santa FE</td>\n",
              "      <td>2016</td>\n",
              "      <td>Jeep</td>\n",
              "      <td>Yes</td>\n",
              "      <td>Diesel</td>\n",
              "      <td>2</td>\n",
              "      <td>160931 km</td>\n",
              "      <td>4.0</td>\n",
              "      <td>Automatic</td>\n",
              "      <td>Front</td>\n",
              "      <td>04-May</td>\n",
              "      <td>Left wheel</td>\n",
              "      <td>White</td>\n",
              "      <td>4</td>\n",
              "    </tr>\n",
              "    <tr>\n",
              "      <th>6</th>\n",
              "      <td>45656768</td>\n",
              "      <td>1803</td>\n",
              "      <td>761</td>\n",
              "      <td>TOYOTA</td>\n",
              "      <td>Prius</td>\n",
              "      <td>2010</td>\n",
              "      <td>Hatchback</td>\n",
              "      <td>Yes</td>\n",
              "      <td>Hybrid</td>\n",
              "      <td>1.8</td>\n",
              "      <td>258909 km</td>\n",
              "      <td>4.0</td>\n",
              "      <td>Automatic</td>\n",
              "      <td>Front</td>\n",
              "      <td>04-May</td>\n",
              "      <td>Left wheel</td>\n",
              "      <td>White</td>\n",
              "      <td>12</td>\n",
              "    </tr>\n",
              "    <tr>\n",
              "      <th>7</th>\n",
              "      <td>45816158</td>\n",
              "      <td>549</td>\n",
              "      <td>751</td>\n",
              "      <td>HYUNDAI</td>\n",
              "      <td>Sonata</td>\n",
              "      <td>2013</td>\n",
              "      <td>Sedan</td>\n",
              "      <td>Yes</td>\n",
              "      <td>Petrol</td>\n",
              "      <td>2.4</td>\n",
              "      <td>216118 km</td>\n",
              "      <td>4.0</td>\n",
              "      <td>Automatic</td>\n",
              "      <td>Front</td>\n",
              "      <td>04-May</td>\n",
              "      <td>Left wheel</td>\n",
              "      <td>Grey</td>\n",
              "      <td>12</td>\n",
              "    </tr>\n",
              "    <tr>\n",
              "      <th>8</th>\n",
              "      <td>45641395</td>\n",
              "      <td>1098</td>\n",
              "      <td>394</td>\n",
              "      <td>TOYOTA</td>\n",
              "      <td>Camry</td>\n",
              "      <td>2014</td>\n",
              "      <td>Sedan</td>\n",
              "      <td>Yes</td>\n",
              "      <td>Hybrid</td>\n",
              "      <td>2.5</td>\n",
              "      <td>398069 km</td>\n",
              "      <td>4.0</td>\n",
              "      <td>Automatic</td>\n",
              "      <td>Front</td>\n",
              "      <td>04-May</td>\n",
              "      <td>Left wheel</td>\n",
              "      <td>Black</td>\n",
              "      <td>12</td>\n",
              "    </tr>\n",
              "    <tr>\n",
              "      <th>9</th>\n",
              "      <td>45756839</td>\n",
              "      <td>26657</td>\n",
              "      <td>-</td>\n",
              "      <td>LEXUS</td>\n",
              "      <td>RX 350</td>\n",
              "      <td>2007</td>\n",
              "      <td>Jeep</td>\n",
              "      <td>Yes</td>\n",
              "      <td>Petrol</td>\n",
              "      <td>3.5</td>\n",
              "      <td>128500 km</td>\n",
              "      <td>6.0</td>\n",
              "      <td>Automatic</td>\n",
              "      <td>4x4</td>\n",
              "      <td>04-May</td>\n",
              "      <td>Left wheel</td>\n",
              "      <td>Silver</td>\n",
              "      <td>12</td>\n",
              "    </tr>\n",
              "    <tr>\n",
              "      <th>10</th>\n",
              "      <td>45621750</td>\n",
              "      <td>941</td>\n",
              "      <td>1053</td>\n",
              "      <td>MERCEDES-BENZ</td>\n",
              "      <td>E 350</td>\n",
              "      <td>2014</td>\n",
              "      <td>Sedan</td>\n",
              "      <td>Yes</td>\n",
              "      <td>Diesel</td>\n",
              "      <td>3.5</td>\n",
              "      <td>184467 km</td>\n",
              "      <td>6.0</td>\n",
              "      <td>Automatic</td>\n",
              "      <td>Rear</td>\n",
              "      <td>04-May</td>\n",
              "      <td>Left wheel</td>\n",
              "      <td>White</td>\n",
              "      <td>12</td>\n",
              "    </tr>\n",
              "    <tr>\n",
              "      <th>11</th>\n",
              "      <td>45814819</td>\n",
              "      <td>8781</td>\n",
              "      <td>-</td>\n",
              "      <td>FORD</td>\n",
              "      <td>Transit</td>\n",
              "      <td>1999</td>\n",
              "      <td>Microbus</td>\n",
              "      <td>No</td>\n",
              "      <td>CNG</td>\n",
              "      <td>4</td>\n",
              "      <td>0 km</td>\n",
              "      <td>8.0</td>\n",
              "      <td>Manual</td>\n",
              "      <td>Rear</td>\n",
              "      <td>02-Mar</td>\n",
              "      <td>Left wheel</td>\n",
              "      <td>Blue</td>\n",
              "      <td>0</td>\n",
              "    </tr>\n",
              "    <tr>\n",
              "      <th>12</th>\n",
              "      <td>45815568</td>\n",
              "      <td>3000</td>\n",
              "      <td>-</td>\n",
              "      <td>OPEL</td>\n",
              "      <td>Vectra</td>\n",
              "      <td>1997</td>\n",
              "      <td>Goods wagon</td>\n",
              "      <td>No</td>\n",
              "      <td>CNG</td>\n",
              "      <td>1.6</td>\n",
              "      <td>350000 km</td>\n",
              "      <td>4.0</td>\n",
              "      <td>Manual</td>\n",
              "      <td>Front</td>\n",
              "      <td>04-May</td>\n",
              "      <td>Left wheel</td>\n",
              "      <td>White</td>\n",
              "      <td>4</td>\n",
              "    </tr>\n",
              "    <tr>\n",
              "      <th>13</th>\n",
              "      <td>45661288</td>\n",
              "      <td>1019</td>\n",
              "      <td>1055</td>\n",
              "      <td>LEXUS</td>\n",
              "      <td>RX 450</td>\n",
              "      <td>2013</td>\n",
              "      <td>Jeep</td>\n",
              "      <td>Yes</td>\n",
              "      <td>Hybrid</td>\n",
              "      <td>3.5</td>\n",
              "      <td>138038 km</td>\n",
              "      <td>6.0</td>\n",
              "      <td>Automatic</td>\n",
              "      <td>Front</td>\n",
              "      <td>04-May</td>\n",
              "      <td>Left wheel</td>\n",
              "      <td>White</td>\n",
              "      <td>12</td>\n",
              "    </tr>\n",
              "    <tr>\n",
              "      <th>14</th>\n",
              "      <td>45732604</td>\n",
              "      <td>59464</td>\n",
              "      <td>891</td>\n",
              "      <td>HYUNDAI</td>\n",
              "      <td>Santa FE</td>\n",
              "      <td>2016</td>\n",
              "      <td>Jeep</td>\n",
              "      <td>Yes</td>\n",
              "      <td>Diesel</td>\n",
              "      <td>2</td>\n",
              "      <td>76000 km</td>\n",
              "      <td>4.0</td>\n",
              "      <td>Automatic</td>\n",
              "      <td>Front</td>\n",
              "      <td>04-May</td>\n",
              "      <td>Left wheel</td>\n",
              "      <td>White</td>\n",
              "      <td>4</td>\n",
              "    </tr>\n",
              "  </tbody>\n",
              "</table>\n",
              "</div>\n",
              "    <div class=\"colab-df-buttons\">\n",
              "\n",
              "  <div class=\"colab-df-container\">\n",
              "    <button class=\"colab-df-convert\" onclick=\"convertToInteractive('df-26fc0a13-e0a7-4e75-88d5-6ae452e61c28')\"\n",
              "            title=\"Convert this dataframe to an interactive table.\"\n",
              "            style=\"display:none;\">\n",
              "\n",
              "  <svg xmlns=\"http://www.w3.org/2000/svg\" height=\"24px\" viewBox=\"0 -960 960 960\">\n",
              "    <path d=\"M120-120v-720h720v720H120Zm60-500h600v-160H180v160Zm220 220h160v-160H400v160Zm0 220h160v-160H400v160ZM180-400h160v-160H180v160Zm440 0h160v-160H620v160ZM180-180h160v-160H180v160Zm440 0h160v-160H620v160Z\"/>\n",
              "  </svg>\n",
              "    </button>\n",
              "\n",
              "  <style>\n",
              "    .colab-df-container {\n",
              "      display:flex;\n",
              "      gap: 12px;\n",
              "    }\n",
              "\n",
              "    .colab-df-convert {\n",
              "      background-color: #E8F0FE;\n",
              "      border: none;\n",
              "      border-radius: 50%;\n",
              "      cursor: pointer;\n",
              "      display: none;\n",
              "      fill: #1967D2;\n",
              "      height: 32px;\n",
              "      padding: 0 0 0 0;\n",
              "      width: 32px;\n",
              "    }\n",
              "\n",
              "    .colab-df-convert:hover {\n",
              "      background-color: #E2EBFA;\n",
              "      box-shadow: 0px 1px 2px rgba(60, 64, 67, 0.3), 0px 1px 3px 1px rgba(60, 64, 67, 0.15);\n",
              "      fill: #174EA6;\n",
              "    }\n",
              "\n",
              "    .colab-df-buttons div {\n",
              "      margin-bottom: 4px;\n",
              "    }\n",
              "\n",
              "    [theme=dark] .colab-df-convert {\n",
              "      background-color: #3B4455;\n",
              "      fill: #D2E3FC;\n",
              "    }\n",
              "\n",
              "    [theme=dark] .colab-df-convert:hover {\n",
              "      background-color: #434B5C;\n",
              "      box-shadow: 0px 1px 3px 1px rgba(0, 0, 0, 0.15);\n",
              "      filter: drop-shadow(0px 1px 2px rgba(0, 0, 0, 0.3));\n",
              "      fill: #FFFFFF;\n",
              "    }\n",
              "  </style>\n",
              "\n",
              "    <script>\n",
              "      const buttonEl =\n",
              "        document.querySelector('#df-26fc0a13-e0a7-4e75-88d5-6ae452e61c28 button.colab-df-convert');\n",
              "      buttonEl.style.display =\n",
              "        google.colab.kernel.accessAllowed ? 'block' : 'none';\n",
              "\n",
              "      async function convertToInteractive(key) {\n",
              "        const element = document.querySelector('#df-26fc0a13-e0a7-4e75-88d5-6ae452e61c28');\n",
              "        const dataTable =\n",
              "          await google.colab.kernel.invokeFunction('convertToInteractive',\n",
              "                                                    [key], {});\n",
              "        if (!dataTable) return;\n",
              "\n",
              "        const docLinkHtml = 'Like what you see? Visit the ' +\n",
              "          '<a target=\"_blank\" href=https://colab.research.google.com/notebooks/data_table.ipynb>data table notebook</a>'\n",
              "          + ' to learn more about interactive tables.';\n",
              "        element.innerHTML = '';\n",
              "        dataTable['output_type'] = 'display_data';\n",
              "        await google.colab.output.renderOutput(dataTable, element);\n",
              "        const docLink = document.createElement('div');\n",
              "        docLink.innerHTML = docLinkHtml;\n",
              "        element.appendChild(docLink);\n",
              "      }\n",
              "    </script>\n",
              "  </div>\n",
              "\n",
              "\n",
              "<div id=\"df-b9a96a0c-03f3-4dad-a9a8-ae8d49be8bb2\">\n",
              "  <button class=\"colab-df-quickchart\" onclick=\"quickchart('df-b9a96a0c-03f3-4dad-a9a8-ae8d49be8bb2')\"\n",
              "            title=\"Suggest charts\"\n",
              "            style=\"display:none;\">\n",
              "\n",
              "<svg xmlns=\"http://www.w3.org/2000/svg\" height=\"24px\"viewBox=\"0 0 24 24\"\n",
              "     width=\"24px\">\n",
              "    <g>\n",
              "        <path d=\"M19 3H5c-1.1 0-2 .9-2 2v14c0 1.1.9 2 2 2h14c1.1 0 2-.9 2-2V5c0-1.1-.9-2-2-2zM9 17H7v-7h2v7zm4 0h-2V7h2v10zm4 0h-2v-4h2v4z\"/>\n",
              "    </g>\n",
              "</svg>\n",
              "  </button>\n",
              "\n",
              "<style>\n",
              "  .colab-df-quickchart {\n",
              "      --bg-color: #E8F0FE;\n",
              "      --fill-color: #1967D2;\n",
              "      --hover-bg-color: #E2EBFA;\n",
              "      --hover-fill-color: #174EA6;\n",
              "      --disabled-fill-color: #AAA;\n",
              "      --disabled-bg-color: #DDD;\n",
              "  }\n",
              "\n",
              "  [theme=dark] .colab-df-quickchart {\n",
              "      --bg-color: #3B4455;\n",
              "      --fill-color: #D2E3FC;\n",
              "      --hover-bg-color: #434B5C;\n",
              "      --hover-fill-color: #FFFFFF;\n",
              "      --disabled-bg-color: #3B4455;\n",
              "      --disabled-fill-color: #666;\n",
              "  }\n",
              "\n",
              "  .colab-df-quickchart {\n",
              "    background-color: var(--bg-color);\n",
              "    border: none;\n",
              "    border-radius: 50%;\n",
              "    cursor: pointer;\n",
              "    display: none;\n",
              "    fill: var(--fill-color);\n",
              "    height: 32px;\n",
              "    padding: 0;\n",
              "    width: 32px;\n",
              "  }\n",
              "\n",
              "  .colab-df-quickchart:hover {\n",
              "    background-color: var(--hover-bg-color);\n",
              "    box-shadow: 0 1px 2px rgba(60, 64, 67, 0.3), 0 1px 3px 1px rgba(60, 64, 67, 0.15);\n",
              "    fill: var(--button-hover-fill-color);\n",
              "  }\n",
              "\n",
              "  .colab-df-quickchart-complete:disabled,\n",
              "  .colab-df-quickchart-complete:disabled:hover {\n",
              "    background-color: var(--disabled-bg-color);\n",
              "    fill: var(--disabled-fill-color);\n",
              "    box-shadow: none;\n",
              "  }\n",
              "\n",
              "  .colab-df-spinner {\n",
              "    border: 2px solid var(--fill-color);\n",
              "    border-color: transparent;\n",
              "    border-bottom-color: var(--fill-color);\n",
              "    animation:\n",
              "      spin 1s steps(1) infinite;\n",
              "  }\n",
              "\n",
              "  @keyframes spin {\n",
              "    0% {\n",
              "      border-color: transparent;\n",
              "      border-bottom-color: var(--fill-color);\n",
              "      border-left-color: var(--fill-color);\n",
              "    }\n",
              "    20% {\n",
              "      border-color: transparent;\n",
              "      border-left-color: var(--fill-color);\n",
              "      border-top-color: var(--fill-color);\n",
              "    }\n",
              "    30% {\n",
              "      border-color: transparent;\n",
              "      border-left-color: var(--fill-color);\n",
              "      border-top-color: var(--fill-color);\n",
              "      border-right-color: var(--fill-color);\n",
              "    }\n",
              "    40% {\n",
              "      border-color: transparent;\n",
              "      border-right-color: var(--fill-color);\n",
              "      border-top-color: var(--fill-color);\n",
              "    }\n",
              "    60% {\n",
              "      border-color: transparent;\n",
              "      border-right-color: var(--fill-color);\n",
              "    }\n",
              "    80% {\n",
              "      border-color: transparent;\n",
              "      border-right-color: var(--fill-color);\n",
              "      border-bottom-color: var(--fill-color);\n",
              "    }\n",
              "    90% {\n",
              "      border-color: transparent;\n",
              "      border-bottom-color: var(--fill-color);\n",
              "    }\n",
              "  }\n",
              "</style>\n",
              "\n",
              "  <script>\n",
              "    async function quickchart(key) {\n",
              "      const quickchartButtonEl =\n",
              "        document.querySelector('#' + key + ' button');\n",
              "      quickchartButtonEl.disabled = true;  // To prevent multiple clicks.\n",
              "      quickchartButtonEl.classList.add('colab-df-spinner');\n",
              "      try {\n",
              "        const charts = await google.colab.kernel.invokeFunction(\n",
              "            'suggestCharts', [key], {});\n",
              "      } catch (error) {\n",
              "        console.error('Error during call to suggestCharts:', error);\n",
              "      }\n",
              "      quickchartButtonEl.classList.remove('colab-df-spinner');\n",
              "      quickchartButtonEl.classList.add('colab-df-quickchart-complete');\n",
              "    }\n",
              "    (() => {\n",
              "      let quickchartButtonEl =\n",
              "        document.querySelector('#df-b9a96a0c-03f3-4dad-a9a8-ae8d49be8bb2 button');\n",
              "      quickchartButtonEl.style.display =\n",
              "        google.colab.kernel.accessAllowed ? 'block' : 'none';\n",
              "    })();\n",
              "  </script>\n",
              "</div>\n",
              "    </div>\n",
              "  </div>\n"
            ]
          },
          "metadata": {},
          "execution_count": 4
        }
      ]
    },
    {
      "cell_type": "code",
      "source": [
        "dataset.info()"
      ],
      "metadata": {
        "id": "A18gRSih1_qf",
        "colab": {
          "base_uri": "https://localhost:8080/"
        },
        "outputId": "b731777a-676f-4d3c-a8f5-50f47a1cdb3f"
      },
      "execution_count": 5,
      "outputs": [
        {
          "output_type": "stream",
          "name": "stdout",
          "text": [
            "<class 'pandas.core.frame.DataFrame'>\n",
            "RangeIndex: 19237 entries, 0 to 19236\n",
            "Data columns (total 18 columns):\n",
            " #   Column            Non-Null Count  Dtype  \n",
            "---  ------            --------------  -----  \n",
            " 0   ID                19237 non-null  int64  \n",
            " 1   Price             19237 non-null  int64  \n",
            " 2   Levy              19237 non-null  object \n",
            " 3   Manufacturer      19237 non-null  object \n",
            " 4   Model             19237 non-null  object \n",
            " 5   Prod. year        19237 non-null  int64  \n",
            " 6   Category          19237 non-null  object \n",
            " 7   Leather interior  19237 non-null  object \n",
            " 8   Fuel type         19237 non-null  object \n",
            " 9   Engine volume     19237 non-null  object \n",
            " 10  Mileage           19237 non-null  object \n",
            " 11  Cylinders         19237 non-null  float64\n",
            " 12  Gear box type     19237 non-null  object \n",
            " 13  Drive wheels      19237 non-null  object \n",
            " 14  Doors             19237 non-null  object \n",
            " 15  Wheel             19237 non-null  object \n",
            " 16  Color             19237 non-null  object \n",
            " 17  Airbags           19237 non-null  int64  \n",
            "dtypes: float64(1), int64(4), object(13)\n",
            "memory usage: 2.6+ MB\n"
          ]
        }
      ]
    },
    {
      "cell_type": "markdown",
      "source": [
        "##Подготовка датасета"
      ],
      "metadata": {
        "id": "p--bK7nhKcsW"
      }
    },
    {
      "cell_type": "code",
      "source": [
        "# Проверим повторяющиеся записи\n",
        "dataset.duplicated().sum()"
      ],
      "metadata": {
        "id": "VmelU_Ww16Uf",
        "colab": {
          "base_uri": "https://localhost:8080/"
        },
        "outputId": "1bf22ce8-6678-4d20-e423-291aa5090623"
      },
      "execution_count": 6,
      "outputs": [
        {
          "output_type": "execute_result",
          "data": {
            "text/plain": [
              "313"
            ]
          },
          "metadata": {},
          "execution_count": 6
        }
      ]
    },
    {
      "cell_type": "code",
      "source": [
        "# Удалим повторяющиеся значения\n",
        "dataset.drop_duplicates(inplace= True)"
      ],
      "metadata": {
        "id": "rQ7A7T8r2d1_"
      },
      "execution_count": 7,
      "outputs": []
    },
    {
      "cell_type": "code",
      "source": [
        "# Проверим пропущенные значения\n",
        "dataset.isna().sum()"
      ],
      "metadata": {
        "id": "w6fvO31A2263",
        "colab": {
          "base_uri": "https://localhost:8080/"
        },
        "outputId": "b00beb87-a31f-4d11-d679-af2b84d2bd3a"
      },
      "execution_count": 8,
      "outputs": [
        {
          "output_type": "execute_result",
          "data": {
            "text/plain": [
              "ID                  0\n",
              "Price               0\n",
              "Levy                0\n",
              "Manufacturer        0\n",
              "Model               0\n",
              "Prod. year          0\n",
              "Category            0\n",
              "Leather interior    0\n",
              "Fuel type           0\n",
              "Engine volume       0\n",
              "Mileage             0\n",
              "Cylinders           0\n",
              "Gear box type       0\n",
              "Drive wheels        0\n",
              "Doors               0\n",
              "Wheel               0\n",
              "Color               0\n",
              "Airbags             0\n",
              "dtype: int64"
            ]
          },
          "metadata": {},
          "execution_count": 8
        }
      ]
    },
    {
      "cell_type": "code",
      "source": [
        "# Проверим количество уникальных значений признаков\n",
        "dataset.nunique()"
      ],
      "metadata": {
        "id": "qYgNaCUI3BDn",
        "colab": {
          "base_uri": "https://localhost:8080/"
        },
        "outputId": "a41693d4-2523-4343-cd8c-2357e6e06794"
      },
      "execution_count": 9,
      "outputs": [
        {
          "output_type": "execute_result",
          "data": {
            "text/plain": [
              "ID                  18924\n",
              "Price                2315\n",
              "Levy                  559\n",
              "Manufacturer           65\n",
              "Model                1590\n",
              "Prod. year             54\n",
              "Category               11\n",
              "Leather interior        2\n",
              "Fuel type               7\n",
              "Engine volume         107\n",
              "Mileage              7687\n",
              "Cylinders              13\n",
              "Gear box type           4\n",
              "Drive wheels            3\n",
              "Doors                   3\n",
              "Wheel                   2\n",
              "Color                  16\n",
              "Airbags                17\n",
              "dtype: int64"
            ]
          },
          "metadata": {},
          "execution_count": 9
        }
      ]
    },
    {
      "cell_type": "markdown",
      "source": [
        "Удалим поля ID и Doors. ID удаляется исходя из того, что он не несет никакой информации об автомобиле. Значения Doors уже отчасти учтены в поле Category (тип автомобиля)"
      ],
      "metadata": {
        "id": "sh7gZjdj4I2f"
      }
    },
    {
      "cell_type": "code",
      "source": [
        "dataset=dataset.drop(['ID','Doors'],axis=1)"
      ],
      "metadata": {
        "id": "fmfzE9mx4IEX"
      },
      "execution_count": 10,
      "outputs": []
    },
    {
      "cell_type": "markdown",
      "source": [
        "Заменим значения '-' в поле Levy на 0, и конвертируем их в float"
      ],
      "metadata": {
        "id": "dm6WTAls5v1v"
      }
    },
    {
      "cell_type": "code",
      "source": [
        "dataset['Levy'] = dataset['Levy'].replace('-','0')\n",
        "dataset['Levy'] = dataset['Levy'].astype('float64')"
      ],
      "metadata": {
        "id": "dEjRdM5e55d2"
      },
      "execution_count": 11,
      "outputs": []
    },
    {
      "cell_type": "markdown",
      "source": [
        "У значений поля Milliage нужно убрать 'km' и конвертировать их в int"
      ],
      "metadata": {
        "id": "Nxw5H8yk6Iw3"
      }
    },
    {
      "cell_type": "code",
      "source": [
        "dataset['Mileage'] = dataset['Mileage'].str.replace('km',\"\")\n",
        "dataset.Mileage = dataset.Mileage.astype('Int64')"
      ],
      "metadata": {
        "id": "26MuF-9e6UXA"
      },
      "execution_count": 12,
      "outputs": []
    },
    {
      "cell_type": "markdown",
      "source": [
        "У значений поля Engine volume нужно убрать 'Turbo' и конвертировать их в float"
      ],
      "metadata": {
        "id": "TKIoyUnS6lCx"
      }
    },
    {
      "cell_type": "code",
      "source": [
        "dataset['Engine volume'] = dataset['Engine volume'].str.replace('Turbo','')\n",
        "dataset['Engine volume'] = dataset['Engine volume'].astype('float64')"
      ],
      "metadata": {
        "id": "qYD0CqzY7KsH"
      },
      "execution_count": 13,
      "outputs": []
    },
    {
      "cell_type": "markdown",
      "source": [
        "Конечная версия датасета будет выглядеть следующим образом"
      ],
      "metadata": {
        "id": "A5hM9PB47exA"
      }
    },
    {
      "cell_type": "code",
      "source": [
        "dataset.head()"
      ],
      "metadata": {
        "id": "TOgiP51s7kp3",
        "colab": {
          "base_uri": "https://localhost:8080/",
          "height": 206
        },
        "outputId": "268e08a8-b88c-4958-be58-cfb5c06677e3"
      },
      "execution_count": 14,
      "outputs": [
        {
          "output_type": "execute_result",
          "data": {
            "text/plain": [
              "   Price    Levy Manufacturer    Model  Prod. year   Category  \\\n",
              "0  13328  1399.0        LEXUS   RX 450        2010       Jeep   \n",
              "1  16621  1018.0    CHEVROLET  Equinox        2011       Jeep   \n",
              "2   8467     0.0        HONDA      FIT        2006  Hatchback   \n",
              "3   3607   862.0         FORD   Escape        2011       Jeep   \n",
              "4  11726   446.0        HONDA      FIT        2014  Hatchback   \n",
              "\n",
              "  Leather interior Fuel type  Engine volume  Mileage  Cylinders Gear box type  \\\n",
              "0              Yes    Hybrid            3.5   186005        6.0     Automatic   \n",
              "1               No    Petrol            3.0   192000        6.0     Tiptronic   \n",
              "2               No    Petrol            1.3   200000        4.0      Variator   \n",
              "3              Yes    Hybrid            2.5   168966        4.0     Automatic   \n",
              "4              Yes    Petrol            1.3    91901        4.0     Automatic   \n",
              "\n",
              "  Drive wheels             Wheel   Color  Airbags  \n",
              "0          4x4        Left wheel  Silver       12  \n",
              "1          4x4        Left wheel   Black        8  \n",
              "2        Front  Right-hand drive   Black        2  \n",
              "3          4x4        Left wheel   White        0  \n",
              "4        Front        Left wheel  Silver        4  "
            ],
            "text/html": [
              "\n",
              "  <div id=\"df-ab016b0e-d372-4d4b-a288-a2d5db20f2a2\" class=\"colab-df-container\">\n",
              "    <div>\n",
              "<style scoped>\n",
              "    .dataframe tbody tr th:only-of-type {\n",
              "        vertical-align: middle;\n",
              "    }\n",
              "\n",
              "    .dataframe tbody tr th {\n",
              "        vertical-align: top;\n",
              "    }\n",
              "\n",
              "    .dataframe thead th {\n",
              "        text-align: right;\n",
              "    }\n",
              "</style>\n",
              "<table border=\"1\" class=\"dataframe\">\n",
              "  <thead>\n",
              "    <tr style=\"text-align: right;\">\n",
              "      <th></th>\n",
              "      <th>Price</th>\n",
              "      <th>Levy</th>\n",
              "      <th>Manufacturer</th>\n",
              "      <th>Model</th>\n",
              "      <th>Prod. year</th>\n",
              "      <th>Category</th>\n",
              "      <th>Leather interior</th>\n",
              "      <th>Fuel type</th>\n",
              "      <th>Engine volume</th>\n",
              "      <th>Mileage</th>\n",
              "      <th>Cylinders</th>\n",
              "      <th>Gear box type</th>\n",
              "      <th>Drive wheels</th>\n",
              "      <th>Wheel</th>\n",
              "      <th>Color</th>\n",
              "      <th>Airbags</th>\n",
              "    </tr>\n",
              "  </thead>\n",
              "  <tbody>\n",
              "    <tr>\n",
              "      <th>0</th>\n",
              "      <td>13328</td>\n",
              "      <td>1399.0</td>\n",
              "      <td>LEXUS</td>\n",
              "      <td>RX 450</td>\n",
              "      <td>2010</td>\n",
              "      <td>Jeep</td>\n",
              "      <td>Yes</td>\n",
              "      <td>Hybrid</td>\n",
              "      <td>3.5</td>\n",
              "      <td>186005</td>\n",
              "      <td>6.0</td>\n",
              "      <td>Automatic</td>\n",
              "      <td>4x4</td>\n",
              "      <td>Left wheel</td>\n",
              "      <td>Silver</td>\n",
              "      <td>12</td>\n",
              "    </tr>\n",
              "    <tr>\n",
              "      <th>1</th>\n",
              "      <td>16621</td>\n",
              "      <td>1018.0</td>\n",
              "      <td>CHEVROLET</td>\n",
              "      <td>Equinox</td>\n",
              "      <td>2011</td>\n",
              "      <td>Jeep</td>\n",
              "      <td>No</td>\n",
              "      <td>Petrol</td>\n",
              "      <td>3.0</td>\n",
              "      <td>192000</td>\n",
              "      <td>6.0</td>\n",
              "      <td>Tiptronic</td>\n",
              "      <td>4x4</td>\n",
              "      <td>Left wheel</td>\n",
              "      <td>Black</td>\n",
              "      <td>8</td>\n",
              "    </tr>\n",
              "    <tr>\n",
              "      <th>2</th>\n",
              "      <td>8467</td>\n",
              "      <td>0.0</td>\n",
              "      <td>HONDA</td>\n",
              "      <td>FIT</td>\n",
              "      <td>2006</td>\n",
              "      <td>Hatchback</td>\n",
              "      <td>No</td>\n",
              "      <td>Petrol</td>\n",
              "      <td>1.3</td>\n",
              "      <td>200000</td>\n",
              "      <td>4.0</td>\n",
              "      <td>Variator</td>\n",
              "      <td>Front</td>\n",
              "      <td>Right-hand drive</td>\n",
              "      <td>Black</td>\n",
              "      <td>2</td>\n",
              "    </tr>\n",
              "    <tr>\n",
              "      <th>3</th>\n",
              "      <td>3607</td>\n",
              "      <td>862.0</td>\n",
              "      <td>FORD</td>\n",
              "      <td>Escape</td>\n",
              "      <td>2011</td>\n",
              "      <td>Jeep</td>\n",
              "      <td>Yes</td>\n",
              "      <td>Hybrid</td>\n",
              "      <td>2.5</td>\n",
              "      <td>168966</td>\n",
              "      <td>4.0</td>\n",
              "      <td>Automatic</td>\n",
              "      <td>4x4</td>\n",
              "      <td>Left wheel</td>\n",
              "      <td>White</td>\n",
              "      <td>0</td>\n",
              "    </tr>\n",
              "    <tr>\n",
              "      <th>4</th>\n",
              "      <td>11726</td>\n",
              "      <td>446.0</td>\n",
              "      <td>HONDA</td>\n",
              "      <td>FIT</td>\n",
              "      <td>2014</td>\n",
              "      <td>Hatchback</td>\n",
              "      <td>Yes</td>\n",
              "      <td>Petrol</td>\n",
              "      <td>1.3</td>\n",
              "      <td>91901</td>\n",
              "      <td>4.0</td>\n",
              "      <td>Automatic</td>\n",
              "      <td>Front</td>\n",
              "      <td>Left wheel</td>\n",
              "      <td>Silver</td>\n",
              "      <td>4</td>\n",
              "    </tr>\n",
              "  </tbody>\n",
              "</table>\n",
              "</div>\n",
              "    <div class=\"colab-df-buttons\">\n",
              "\n",
              "  <div class=\"colab-df-container\">\n",
              "    <button class=\"colab-df-convert\" onclick=\"convertToInteractive('df-ab016b0e-d372-4d4b-a288-a2d5db20f2a2')\"\n",
              "            title=\"Convert this dataframe to an interactive table.\"\n",
              "            style=\"display:none;\">\n",
              "\n",
              "  <svg xmlns=\"http://www.w3.org/2000/svg\" height=\"24px\" viewBox=\"0 -960 960 960\">\n",
              "    <path d=\"M120-120v-720h720v720H120Zm60-500h600v-160H180v160Zm220 220h160v-160H400v160Zm0 220h160v-160H400v160ZM180-400h160v-160H180v160Zm440 0h160v-160H620v160ZM180-180h160v-160H180v160Zm440 0h160v-160H620v160Z\"/>\n",
              "  </svg>\n",
              "    </button>\n",
              "\n",
              "  <style>\n",
              "    .colab-df-container {\n",
              "      display:flex;\n",
              "      gap: 12px;\n",
              "    }\n",
              "\n",
              "    .colab-df-convert {\n",
              "      background-color: #E8F0FE;\n",
              "      border: none;\n",
              "      border-radius: 50%;\n",
              "      cursor: pointer;\n",
              "      display: none;\n",
              "      fill: #1967D2;\n",
              "      height: 32px;\n",
              "      padding: 0 0 0 0;\n",
              "      width: 32px;\n",
              "    }\n",
              "\n",
              "    .colab-df-convert:hover {\n",
              "      background-color: #E2EBFA;\n",
              "      box-shadow: 0px 1px 2px rgba(60, 64, 67, 0.3), 0px 1px 3px 1px rgba(60, 64, 67, 0.15);\n",
              "      fill: #174EA6;\n",
              "    }\n",
              "\n",
              "    .colab-df-buttons div {\n",
              "      margin-bottom: 4px;\n",
              "    }\n",
              "\n",
              "    [theme=dark] .colab-df-convert {\n",
              "      background-color: #3B4455;\n",
              "      fill: #D2E3FC;\n",
              "    }\n",
              "\n",
              "    [theme=dark] .colab-df-convert:hover {\n",
              "      background-color: #434B5C;\n",
              "      box-shadow: 0px 1px 3px 1px rgba(0, 0, 0, 0.15);\n",
              "      filter: drop-shadow(0px 1px 2px rgba(0, 0, 0, 0.3));\n",
              "      fill: #FFFFFF;\n",
              "    }\n",
              "  </style>\n",
              "\n",
              "    <script>\n",
              "      const buttonEl =\n",
              "        document.querySelector('#df-ab016b0e-d372-4d4b-a288-a2d5db20f2a2 button.colab-df-convert');\n",
              "      buttonEl.style.display =\n",
              "        google.colab.kernel.accessAllowed ? 'block' : 'none';\n",
              "\n",
              "      async function convertToInteractive(key) {\n",
              "        const element = document.querySelector('#df-ab016b0e-d372-4d4b-a288-a2d5db20f2a2');\n",
              "        const dataTable =\n",
              "          await google.colab.kernel.invokeFunction('convertToInteractive',\n",
              "                                                    [key], {});\n",
              "        if (!dataTable) return;\n",
              "\n",
              "        const docLinkHtml = 'Like what you see? Visit the ' +\n",
              "          '<a target=\"_blank\" href=https://colab.research.google.com/notebooks/data_table.ipynb>data table notebook</a>'\n",
              "          + ' to learn more about interactive tables.';\n",
              "        element.innerHTML = '';\n",
              "        dataTable['output_type'] = 'display_data';\n",
              "        await google.colab.output.renderOutput(dataTable, element);\n",
              "        const docLink = document.createElement('div');\n",
              "        docLink.innerHTML = docLinkHtml;\n",
              "        element.appendChild(docLink);\n",
              "      }\n",
              "    </script>\n",
              "  </div>\n",
              "\n",
              "\n",
              "<div id=\"df-1187a947-c5fa-433b-9c79-885e76267c79\">\n",
              "  <button class=\"colab-df-quickchart\" onclick=\"quickchart('df-1187a947-c5fa-433b-9c79-885e76267c79')\"\n",
              "            title=\"Suggest charts\"\n",
              "            style=\"display:none;\">\n",
              "\n",
              "<svg xmlns=\"http://www.w3.org/2000/svg\" height=\"24px\"viewBox=\"0 0 24 24\"\n",
              "     width=\"24px\">\n",
              "    <g>\n",
              "        <path d=\"M19 3H5c-1.1 0-2 .9-2 2v14c0 1.1.9 2 2 2h14c1.1 0 2-.9 2-2V5c0-1.1-.9-2-2-2zM9 17H7v-7h2v7zm4 0h-2V7h2v10zm4 0h-2v-4h2v4z\"/>\n",
              "    </g>\n",
              "</svg>\n",
              "  </button>\n",
              "\n",
              "<style>\n",
              "  .colab-df-quickchart {\n",
              "      --bg-color: #E8F0FE;\n",
              "      --fill-color: #1967D2;\n",
              "      --hover-bg-color: #E2EBFA;\n",
              "      --hover-fill-color: #174EA6;\n",
              "      --disabled-fill-color: #AAA;\n",
              "      --disabled-bg-color: #DDD;\n",
              "  }\n",
              "\n",
              "  [theme=dark] .colab-df-quickchart {\n",
              "      --bg-color: #3B4455;\n",
              "      --fill-color: #D2E3FC;\n",
              "      --hover-bg-color: #434B5C;\n",
              "      --hover-fill-color: #FFFFFF;\n",
              "      --disabled-bg-color: #3B4455;\n",
              "      --disabled-fill-color: #666;\n",
              "  }\n",
              "\n",
              "  .colab-df-quickchart {\n",
              "    background-color: var(--bg-color);\n",
              "    border: none;\n",
              "    border-radius: 50%;\n",
              "    cursor: pointer;\n",
              "    display: none;\n",
              "    fill: var(--fill-color);\n",
              "    height: 32px;\n",
              "    padding: 0;\n",
              "    width: 32px;\n",
              "  }\n",
              "\n",
              "  .colab-df-quickchart:hover {\n",
              "    background-color: var(--hover-bg-color);\n",
              "    box-shadow: 0 1px 2px rgba(60, 64, 67, 0.3), 0 1px 3px 1px rgba(60, 64, 67, 0.15);\n",
              "    fill: var(--button-hover-fill-color);\n",
              "  }\n",
              "\n",
              "  .colab-df-quickchart-complete:disabled,\n",
              "  .colab-df-quickchart-complete:disabled:hover {\n",
              "    background-color: var(--disabled-bg-color);\n",
              "    fill: var(--disabled-fill-color);\n",
              "    box-shadow: none;\n",
              "  }\n",
              "\n",
              "  .colab-df-spinner {\n",
              "    border: 2px solid var(--fill-color);\n",
              "    border-color: transparent;\n",
              "    border-bottom-color: var(--fill-color);\n",
              "    animation:\n",
              "      spin 1s steps(1) infinite;\n",
              "  }\n",
              "\n",
              "  @keyframes spin {\n",
              "    0% {\n",
              "      border-color: transparent;\n",
              "      border-bottom-color: var(--fill-color);\n",
              "      border-left-color: var(--fill-color);\n",
              "    }\n",
              "    20% {\n",
              "      border-color: transparent;\n",
              "      border-left-color: var(--fill-color);\n",
              "      border-top-color: var(--fill-color);\n",
              "    }\n",
              "    30% {\n",
              "      border-color: transparent;\n",
              "      border-left-color: var(--fill-color);\n",
              "      border-top-color: var(--fill-color);\n",
              "      border-right-color: var(--fill-color);\n",
              "    }\n",
              "    40% {\n",
              "      border-color: transparent;\n",
              "      border-right-color: var(--fill-color);\n",
              "      border-top-color: var(--fill-color);\n",
              "    }\n",
              "    60% {\n",
              "      border-color: transparent;\n",
              "      border-right-color: var(--fill-color);\n",
              "    }\n",
              "    80% {\n",
              "      border-color: transparent;\n",
              "      border-right-color: var(--fill-color);\n",
              "      border-bottom-color: var(--fill-color);\n",
              "    }\n",
              "    90% {\n",
              "      border-color: transparent;\n",
              "      border-bottom-color: var(--fill-color);\n",
              "    }\n",
              "  }\n",
              "</style>\n",
              "\n",
              "  <script>\n",
              "    async function quickchart(key) {\n",
              "      const quickchartButtonEl =\n",
              "        document.querySelector('#' + key + ' button');\n",
              "      quickchartButtonEl.disabled = true;  // To prevent multiple clicks.\n",
              "      quickchartButtonEl.classList.add('colab-df-spinner');\n",
              "      try {\n",
              "        const charts = await google.colab.kernel.invokeFunction(\n",
              "            'suggestCharts', [key], {});\n",
              "      } catch (error) {\n",
              "        console.error('Error during call to suggestCharts:', error);\n",
              "      }\n",
              "      quickchartButtonEl.classList.remove('colab-df-spinner');\n",
              "      quickchartButtonEl.classList.add('colab-df-quickchart-complete');\n",
              "    }\n",
              "    (() => {\n",
              "      let quickchartButtonEl =\n",
              "        document.querySelector('#df-1187a947-c5fa-433b-9c79-885e76267c79 button');\n",
              "      quickchartButtonEl.style.display =\n",
              "        google.colab.kernel.accessAllowed ? 'block' : 'none';\n",
              "    })();\n",
              "  </script>\n",
              "</div>\n",
              "    </div>\n",
              "  </div>\n"
            ]
          },
          "metadata": {},
          "execution_count": 14
        }
      ]
    },
    {
      "cell_type": "code",
      "source": [
        "dataset.info()"
      ],
      "metadata": {
        "id": "0Bg8Bwl97oFn",
        "colab": {
          "base_uri": "https://localhost:8080/"
        },
        "outputId": "7455a022-fb79-4797-ebda-faefe61f2af9"
      },
      "execution_count": 15,
      "outputs": [
        {
          "output_type": "stream",
          "name": "stdout",
          "text": [
            "<class 'pandas.core.frame.DataFrame'>\n",
            "Int64Index: 18924 entries, 0 to 19236\n",
            "Data columns (total 16 columns):\n",
            " #   Column            Non-Null Count  Dtype  \n",
            "---  ------            --------------  -----  \n",
            " 0   Price             18924 non-null  int64  \n",
            " 1   Levy              18924 non-null  float64\n",
            " 2   Manufacturer      18924 non-null  object \n",
            " 3   Model             18924 non-null  object \n",
            " 4   Prod. year        18924 non-null  int64  \n",
            " 5   Category          18924 non-null  object \n",
            " 6   Leather interior  18924 non-null  object \n",
            " 7   Fuel type         18924 non-null  object \n",
            " 8   Engine volume     18924 non-null  float64\n",
            " 9   Mileage           18924 non-null  Int64  \n",
            " 10  Cylinders         18924 non-null  float64\n",
            " 11  Gear box type     18924 non-null  object \n",
            " 12  Drive wheels      18924 non-null  object \n",
            " 13  Wheel             18924 non-null  object \n",
            " 14  Color             18924 non-null  object \n",
            " 15  Airbags           18924 non-null  int64  \n",
            "dtypes: Int64(1), float64(3), int64(3), object(9)\n",
            "memory usage: 2.5+ MB\n"
          ]
        }
      ]
    },
    {
      "cell_type": "code",
      "source": [
        "dataset.shape"
      ],
      "metadata": {
        "id": "V4sxLTu4CkWl",
        "colab": {
          "base_uri": "https://localhost:8080/"
        },
        "outputId": "f26a3554-246e-4d3c-b148-d1ce61fa7e2c"
      },
      "execution_count": 16,
      "outputs": [
        {
          "output_type": "execute_result",
          "data": {
            "text/plain": [
              "(18924, 16)"
            ]
          },
          "metadata": {},
          "execution_count": 16
        }
      ]
    },
    {
      "cell_type": "code",
      "source": [
        "dataset['Manufacturer'] = dataset['Manufacturer'].astype('category')\n",
        "dataset['Model'] = dataset['Model'].astype('category')\n",
        "dataset['Category'] = dataset['Category'].astype('category')\n",
        "dataset['Leather interior'] = dataset['Leather interior'].astype('category')\n",
        "dataset['Fuel type'] = dataset['Fuel type'].astype('category')\n",
        "dataset['Gear box type'] = dataset['Gear box type'].astype('category')\n",
        "dataset['Drive wheels'] = dataset['Drive wheels'].astype('category')\n",
        "dataset['Wheel'] = dataset['Wheel'].astype('category')\n",
        "dataset['Color'] = dataset['Color'].astype('category')"
      ],
      "metadata": {
        "id": "4pg9WVPy-VBo"
      },
      "execution_count": 17,
      "outputs": []
    },
    {
      "cell_type": "markdown",
      "source": [
        "##2. Визуализация данных, борьба с выбросами"
      ],
      "metadata": {
        "id": "zrZR11SDEl_o"
      }
    },
    {
      "cell_type": "code",
      "source": [
        "# Построим матрицу диаграмм рассеивания\n",
        "pd.plotting.scatter_matrix(dataset, figsize = (13, 13))\n",
        "pass"
      ],
      "metadata": {
        "id": "SuUwFu4ZHY8Q",
        "colab": {
          "base_uri": "https://localhost:8080/",
          "height": 1000
        },
        "outputId": "6f3cb91e-50d5-4458-99f3-4d29df290462"
      },
      "execution_count": 18,
      "outputs": [
        {
          "output_type": "display_data",
          "data": {
            "text/plain": [
              "<Figure size 1300x1300 with 49 Axes>"
            ],
            "image/png": "[encoded data removed]"
          },
          "metadata": {}
        }
      ]
    },
    {
      "cell_type": "code",
      "source": [
        "cor = dataset.select_dtypes(exclude=object).corr()\n",
        "sns.heatmap(cor, annot= True, linewidths= 0.5,cmap='hot')\n",
        "plt.title('Correlation Heatmap')\n",
        "plt.show()"
      ],
      "metadata": {
        "id": "soUYknJFyMYO",
        "colab": {
          "base_uri": "https://localhost:8080/",
          "height": 596
        },
        "outputId": "f1246b22-008d-4820-93ee-7e9090ad37d5"
      },
      "execution_count": 19,
      "outputs": [
        {
          "output_type": "stream",
          "name": "stderr",
          "text": [
            "<ipython-input-19-e49254aac435>:1: FutureWarning: The default value of numeric_only in DataFrame.corr is deprecated. In a future version, it will default to False. Select only valid columns or specify the value of numeric_only to silence this warning.\n",
            "  cor = dataset.select_dtypes(exclude=object).corr()\n"
          ]
        },
        {
          "output_type": "display_data",
          "data": {
            "text/plain": [
              "<Figure size 640x480 with 2 Axes>"
            ],
            "image/png": "[encoded data removed]"
          },
          "metadata": {}
        }
      ]
    },
    {
      "cell_type": "code",
      "source": [
        "dataset['Price'].quantile([0.005,.01,.05,.1,.5,.9,.95,.99,.995])"
      ],
      "metadata": {
        "id": "lUA9o2sdn32F",
        "colab": {
          "base_uri": "https://localhost:8080/"
        },
        "outputId": "4f00c6b3-703a-4a16-9acb-db7d3e10e964"
      },
      "execution_count": 20,
      "outputs": [
        {
          "output_type": "execute_result",
          "data": {
            "text/plain": [
              "0.005        30.0\n",
              "0.010        45.0\n",
              "0.050       314.0\n",
              "0.100       627.0\n",
              "0.500     13172.0\n",
              "0.900     38737.0\n",
              "0.950     49410.3\n",
              "0.990     84675.0\n",
              "0.995    103491.0\n",
              "Name: Price, dtype: float64"
            ]
          },
          "metadata": {},
          "execution_count": 20
        }
      ]
    },
    {
      "cell_type": "markdown",
      "source": [
        "Можем заметить, что некоторые значения стоимости автомобиля выглядят неадекватными, например выходящие за пределы квантиля 0.1. Попробуем отбросить строки со значениями параметров, которые выходят за пределы квантилей 0.005 и 0.900 и строки, цена в которых не адекватна."
      ],
      "metadata": {
        "id": "8HhGk91UuHf2"
      }
    },
    {
      "cell_type": "code",
      "source": [
        "rows_to_drop = dataset[\n",
        "    (dataset['Price'] < dataset['Price'].quantile(0.100)) | (dataset['Price'] > dataset['Price'].quantile(0.900)) |\n",
        "    (dataset['Levy']  < dataset['Levy'].quantile(0.005)) | (dataset['Levy']  > dataset['Levy'].quantile(0.995)) |\n",
        "    (dataset['Prod. year']  < dataset['Prod. year'].quantile(0.005)) | (dataset['Prod. year']  > dataset['Prod. year'].quantile(0.995)) |\n",
        "    (dataset['Engine volume']  < dataset['Engine volume'].quantile(0.005)) | (dataset['Engine volume']  > dataset['Engine volume'].quantile(0.995)) |\n",
        "    (dataset['Mileage']  < dataset['Mileage'].quantile(0.005)) | (dataset['Mileage']  > dataset['Mileage'].quantile(0.995)) |\n",
        "    (dataset['Cylinders']  < dataset['Cylinders'].quantile(0.005)) | (dataset['Cylinders']  > dataset['Cylinders'].quantile(0.995)) |\n",
        "    (dataset['Airbags']  < dataset['Airbags'].quantile(0.005)) | (dataset['Airbags']  > dataset['Airbags'].quantile(0.995))].index\n",
        "dataset = dataset.drop(rows_to_drop)\n",
        "dataset.shape"
      ],
      "metadata": {
        "id": "YXqY3oEcIoY4",
        "colab": {
          "base_uri": "https://localhost:8080/"
        },
        "outputId": "ade38f8b-791d-4eaf-ac59-80dd60e7306d"
      },
      "execution_count": 21,
      "outputs": [
        {
          "output_type": "execute_result",
          "data": {
            "text/plain": [
              "(14753, 16)"
            ]
          },
          "metadata": {},
          "execution_count": 21
        }
      ]
    },
    {
      "cell_type": "markdown",
      "source": [
        "Количество данных изменилось некритично. Выбросить больше уже нельзя.\n"
      ],
      "metadata": {
        "id": "f6DdI2WHsEs2"
      }
    },
    {
      "cell_type": "code",
      "source": [
        "dataset['Price'].plot(kind='box')\n",
        "pass"
      ],
      "metadata": {
        "id": "FeZk39MznlqV",
        "colab": {
          "base_uri": "https://localhost:8080/",
          "height": 430
        },
        "outputId": "865e09f1-ee80-4136-cbe6-7677571f72da"
      },
      "execution_count": 22,
      "outputs": [
        {
          "output_type": "display_data",
          "data": {
            "text/plain": [
              "<Figure size 640x480 with 1 Axes>"
            ],
            "image/png": "[encoded data removed]"
          },
          "metadata": {}
        }
      ]
    },
    {
      "cell_type": "markdown",
      "source": [
        "##3. Обработка категориальных признаков"
      ],
      "metadata": {
        "id": "3Tz-BZxFweBv"
      }
    },
    {
      "cell_type": "markdown",
      "source": [
        "Закодируем категориальные признаки с помощью числовых принаков."
      ],
      "metadata": {
        "id": "OrGP9KZCw6lN"
      }
    },
    {
      "cell_type": "code",
      "source": [
        "dataset = pd.get_dummies(dataset)"
      ],
      "metadata": {
        "id": "w3nevCV7wjnu"
      },
      "execution_count": 23,
      "outputs": []
    },
    {
      "cell_type": "markdown",
      "source": [
        "##4. Нормализация признаков"
      ],
      "metadata": {
        "id": "9jHfG7SQxKsV"
      }
    },
    {
      "cell_type": "markdown",
      "source": [
        "Нормализацию проведём методом стандартизации:"
      ],
      "metadata": {
        "id": "pShK-30Dxhr3"
      }
    },
    {
      "cell_type": "code",
      "source": [
        "dataset_normalized = (dataset - dataset.mean(axis = 0)) / dataset.std(axis = 0)\n",
        "dataset_normalized.describe()"
      ],
      "metadata": {
        "id": "fBLPu4HnxPu2",
        "colab": {
          "base_uri": "https://localhost:8080/",
          "height": 454
        },
        "outputId": "286f9fc2-a014-4903-a209-57fa991baf25"
      },
      "execution_count": 24,
      "outputs": [
        {
          "output_type": "execute_result",
          "data": {
            "text/plain": [
              "              Price          Levy    Prod. year  Engine volume   Mileage  \\\n",
              "count  1.475300e+04  1.475300e+04  1.475300e+04   1.475300e+04   14753.0   \n",
              "mean   4.816259e-17  5.093194e-17 -1.377450e-15   2.119154e-17       0.0   \n",
              "std    1.000000e+00  1.000000e+00  1.000000e+00   1.000000e+00       1.0   \n",
              "min   -1.480136e+00 -1.191139e+00 -3.714786e+00  -1.601364e+00 -1.440458   \n",
              "25%   -7.602717e-01 -1.191139e+00 -4.820922e-01  -6.904109e-01 -0.671774   \n",
              "50%   -1.089398e-01  1.107792e-01  2.785416e-01  -3.000022e-01 -0.136112   \n",
              "75%    6.108153e-01  5.623822e-01  6.588585e-01   3.506789e-01  0.456294   \n",
              "max    2.685371e+00  3.802939e+00  1.609651e+00   4.515038e+00  6.324013   \n",
              "\n",
              "          Cylinders       Airbags  Manufacturer_ACURA  \\\n",
              "count  1.475300e+04  1.475300e+04        1.475300e+04   \n",
              "mean   1.223330e-16 -4.527284e-17        2.504455e-17   \n",
              "std    1.000000e+00  1.000000e+00        1.000000e+00   \n",
              "min   -1.465069e+00 -1.565916e+00       -2.604308e-02   \n",
              "25%   -4.805038e-01 -5.985174e-01       -2.604308e-02   \n",
              "50%   -4.805038e-01 -1.148183e-01       -2.604308e-02   \n",
              "75%   -4.805038e-01  1.336279e+00       -2.604308e-02   \n",
              "max    3.457759e+00  2.061828e+00        3.839531e+01   \n",
              "\n",
              "       Manufacturer_ALFA ROMEO  Manufacturer_ASTON MARTIN  ...   Color_Green  \\\n",
              "count             1.475300e+04                        0.0  ...  1.475300e+04   \n",
              "mean              1.155902e-17                        NaN  ... -3.082406e-17   \n",
              "std               1.000000e+00                        NaN  ...  1.000000e+00   \n",
              "min              -1.646774e-02                        NaN  ... -1.362753e-01   \n",
              "25%              -1.646774e-02                        NaN  ... -1.362753e-01   \n",
              "50%              -1.646774e-02                        NaN  ... -1.362753e-01   \n",
              "75%              -1.646774e-02                        NaN  ... -1.362753e-01   \n",
              "max               6.072067e+01                        NaN  ...  7.337589e+00   \n",
              "\n",
              "         Color_Grey  Color_Orange    Color_Pink  Color_Purple     Color_Red  \\\n",
              "count  1.475300e+04  1.475300e+04  14753.000000  1.475300e+04  1.475300e+04   \n",
              "mean  -7.296633e-17 -1.107740e-17      0.000000  1.372634e-17 -3.371382e-18   \n",
              "std    1.000000e+00  1.000000e+00      1.000000  1.000000e+00  1.000000e+00   \n",
              "min   -3.668449e-01 -1.291351e-01     -0.038644 -4.734655e-02 -1.897968e-01   \n",
              "25%   -3.668449e-01 -1.291351e-01     -0.038644 -4.734655e-02 -1.897968e-01   \n",
              "50%   -3.668449e-01 -1.291351e-01     -0.038644 -4.734655e-02 -1.897968e-01   \n",
              "75%   -3.668449e-01 -1.291351e-01     -0.038644 -4.734655e-02 -1.897968e-01   \n",
              "max    2.725763e+00  7.743303e+00     25.875578  2.111943e+01  5.268435e+00   \n",
              "\n",
              "       Color_Silver  Color_Sky blue   Color_White  Color_Yellow  \n",
              "count  1.475300e+04    1.475300e+04  1.475300e+04  1.475300e+04  \n",
              "mean   1.155902e-17    2.697105e-17 -6.453787e-17 -3.082406e-17  \n",
              "std    1.000000e+00    1.000000e+00  1.000000e+00  1.000000e+00  \n",
              "min   -5.194436e-01   -8.587218e-02 -5.426265e-01 -7.790298e-02  \n",
              "25%   -5.194436e-01   -8.587218e-02 -5.426265e-01 -7.790298e-02  \n",
              "50%   -5.194436e-01   -8.587218e-02 -5.426265e-01 -7.790298e-02  \n",
              "75%   -5.194436e-01   -8.587218e-02 -5.426265e-01 -7.790298e-02  \n",
              "max    1.925006e+00    1.164443e+01  1.842763e+00  1.283561e+01  \n",
              "\n",
              "[8 rows x 1707 columns]"
            ],
            "text/html": [
              "\n",
              "  <div id=\"df-2627a827-5d8d-468b-a2fe-1aeb83aad8c1\" class=\"colab-df-container\">\n",
              "    <div>\n",
              "<style scoped>\n",
              "    .dataframe tbody tr th:only-of-type {\n",
              "        vertical-align: middle;\n",
              "    }\n",
              "\n",
              "    .dataframe tbody tr th {\n",
              "        vertical-align: top;\n",
              "    }\n",
              "\n",
              "    .dataframe thead th {\n",
              "        text-align: right;\n",
              "    }\n",
              "</style>\n",
              "<table border=\"1\" class=\"dataframe\">\n",
              "  <thead>\n",
              "    <tr style=\"text-align: right;\">\n",
              "      <th></th>\n",
              "      <th>Price</th>\n",
              "      <th>Levy</th>\n",
              "      <th>Prod. year</th>\n",
              "      <th>Engine volume</th>\n",
              "      <th>Mileage</th>\n",
              "      <th>Cylinders</th>\n",
              "      <th>Airbags</th>\n",
              "      <th>Manufacturer_ACURA</th>\n",
              "      <th>Manufacturer_ALFA ROMEO</th>\n",
              "      <th>Manufacturer_ASTON MARTIN</th>\n",
              "      <th>...</th>\n",
              "      <th>Color_Green</th>\n",
              "      <th>Color_Grey</th>\n",
              "      <th>Color_Orange</th>\n",
              "      <th>Color_Pink</th>\n",
              "      <th>Color_Purple</th>\n",
              "      <th>Color_Red</th>\n",
              "      <th>Color_Silver</th>\n",
              "      <th>Color_Sky blue</th>\n",
              "      <th>Color_White</th>\n",
              "      <th>Color_Yellow</th>\n",
              "    </tr>\n",
              "  </thead>\n",
              "  <tbody>\n",
              "    <tr>\n",
              "      <th>count</th>\n",
              "      <td>1.475300e+04</td>\n",
              "      <td>1.475300e+04</td>\n",
              "      <td>1.475300e+04</td>\n",
              "      <td>1.475300e+04</td>\n",
              "      <td>14753.0</td>\n",
              "      <td>1.475300e+04</td>\n",
              "      <td>1.475300e+04</td>\n",
              "      <td>1.475300e+04</td>\n",
              "      <td>1.475300e+04</td>\n",
              "      <td>0.0</td>\n",
              "      <td>...</td>\n",
              "      <td>1.475300e+04</td>\n",
              "      <td>1.475300e+04</td>\n",
              "      <td>1.475300e+04</td>\n",
              "      <td>14753.000000</td>\n",
              "      <td>1.475300e+04</td>\n",
              "      <td>1.475300e+04</td>\n",
              "      <td>1.475300e+04</td>\n",
              "      <td>1.475300e+04</td>\n",
              "      <td>1.475300e+04</td>\n",
              "      <td>1.475300e+04</td>\n",
              "    </tr>\n",
              "    <tr>\n",
              "      <th>mean</th>\n",
              "      <td>4.816259e-17</td>\n",
              "      <td>5.093194e-17</td>\n",
              "      <td>-1.377450e-15</td>\n",
              "      <td>2.119154e-17</td>\n",
              "      <td>0.0</td>\n",
              "      <td>1.223330e-16</td>\n",
              "      <td>-4.527284e-17</td>\n",
              "      <td>2.504455e-17</td>\n",
              "      <td>1.155902e-17</td>\n",
              "      <td>NaN</td>\n",
              "      <td>...</td>\n",
              "      <td>-3.082406e-17</td>\n",
              "      <td>-7.296633e-17</td>\n",
              "      <td>-1.107740e-17</td>\n",
              "      <td>0.000000</td>\n",
              "      <td>1.372634e-17</td>\n",
              "      <td>-3.371382e-18</td>\n",
              "      <td>1.155902e-17</td>\n",
              "      <td>2.697105e-17</td>\n",
              "      <td>-6.453787e-17</td>\n",
              "      <td>-3.082406e-17</td>\n",
              "    </tr>\n",
              "    <tr>\n",
              "      <th>std</th>\n",
              "      <td>1.000000e+00</td>\n",
              "      <td>1.000000e+00</td>\n",
              "      <td>1.000000e+00</td>\n",
              "      <td>1.000000e+00</td>\n",
              "      <td>1.0</td>\n",
              "      <td>1.000000e+00</td>\n",
              "      <td>1.000000e+00</td>\n",
              "      <td>1.000000e+00</td>\n",
              "      <td>1.000000e+00</td>\n",
              "      <td>NaN</td>\n",
              "      <td>...</td>\n",
              "      <td>1.000000e+00</td>\n",
              "      <td>1.000000e+00</td>\n",
              "      <td>1.000000e+00</td>\n",
              "      <td>1.000000</td>\n",
              "      <td>1.000000e+00</td>\n",
              "      <td>1.000000e+00</td>\n",
              "      <td>1.000000e+00</td>\n",
              "      <td>1.000000e+00</td>\n",
              "      <td>1.000000e+00</td>\n",
              "      <td>1.000000e+00</td>\n",
              "    </tr>\n",
              "    <tr>\n",
              "      <th>min</th>\n",
              "      <td>-1.480136e+00</td>\n",
              "      <td>-1.191139e+00</td>\n",
              "      <td>-3.714786e+00</td>\n",
              "      <td>-1.601364e+00</td>\n",
              "      <td>-1.440458</td>\n",
              "      <td>-1.465069e+00</td>\n",
              "      <td>-1.565916e+00</td>\n",
              "      <td>-2.604308e-02</td>\n",
              "      <td>-1.646774e-02</td>\n",
              "      <td>NaN</td>\n",
              "      <td>...</td>\n",
              "      <td>-1.362753e-01</td>\n",
              "      <td>-3.668449e-01</td>\n",
              "      <td>-1.291351e-01</td>\n",
              "      <td>-0.038644</td>\n",
              "      <td>-4.734655e-02</td>\n",
              "      <td>-1.897968e-01</td>\n",
              "      <td>-5.194436e-01</td>\n",
              "      <td>-8.587218e-02</td>\n",
              "      <td>-5.426265e-01</td>\n",
              "      <td>-7.790298e-02</td>\n",
              "    </tr>\n",
              "    <tr>\n",
              "      <th>25%</th>\n",
              "      <td>-7.602717e-01</td>\n",
              "      <td>-1.191139e+00</td>\n",
              "      <td>-4.820922e-01</td>\n",
              "      <td>-6.904109e-01</td>\n",
              "      <td>-0.671774</td>\n",
              "      <td>-4.805038e-01</td>\n",
              "      <td>-5.985174e-01</td>\n",
              "      <td>-2.604308e-02</td>\n",
              "      <td>-1.646774e-02</td>\n",
              "      <td>NaN</td>\n",
              "      <td>...</td>\n",
              "      <td>-1.362753e-01</td>\n",
              "      <td>-3.668449e-01</td>\n",
              "      <td>-1.291351e-01</td>\n",
              "      <td>-0.038644</td>\n",
              "      <td>-4.734655e-02</td>\n",
              "      <td>-1.897968e-01</td>\n",
              "      <td>-5.194436e-01</td>\n",
              "      <td>-8.587218e-02</td>\n",
              "      <td>-5.426265e-01</td>\n",
              "      <td>-7.790298e-02</td>\n",
              "    </tr>\n",
              "    <tr>\n",
              "      <th>50%</th>\n",
              "      <td>-1.089398e-01</td>\n",
              "      <td>1.107792e-01</td>\n",
              "      <td>2.785416e-01</td>\n",
              "      <td>-3.000022e-01</td>\n",
              "      <td>-0.136112</td>\n",
              "      <td>-4.805038e-01</td>\n",
              "      <td>-1.148183e-01</td>\n",
              "      <td>-2.604308e-02</td>\n",
              "      <td>-1.646774e-02</td>\n",
              "      <td>NaN</td>\n",
              "      <td>...</td>\n",
              "      <td>-1.362753e-01</td>\n",
              "      <td>-3.668449e-01</td>\n",
              "      <td>-1.291351e-01</td>\n",
              "      <td>-0.038644</td>\n",
              "      <td>-4.734655e-02</td>\n",
              "      <td>-1.897968e-01</td>\n",
              "      <td>-5.194436e-01</td>\n",
              "      <td>-8.587218e-02</td>\n",
              "      <td>-5.426265e-01</td>\n",
              "      <td>-7.790298e-02</td>\n",
              "    </tr>\n",
              "    <tr>\n",
              "      <th>75%</th>\n",
              "      <td>6.108153e-01</td>\n",
              "      <td>5.623822e-01</td>\n",
              "      <td>6.588585e-01</td>\n",
              "      <td>3.506789e-01</td>\n",
              "      <td>0.456294</td>\n",
              "      <td>-4.805038e-01</td>\n",
              "      <td>1.336279e+00</td>\n",
              "      <td>-2.604308e-02</td>\n",
              "      <td>-1.646774e-02</td>\n",
              "      <td>NaN</td>\n",
              "      <td>...</td>\n",
              "      <td>-1.362753e-01</td>\n",
              "      <td>-3.668449e-01</td>\n",
              "      <td>-1.291351e-01</td>\n",
              "      <td>-0.038644</td>\n",
              "      <td>-4.734655e-02</td>\n",
              "      <td>-1.897968e-01</td>\n",
              "      <td>-5.194436e-01</td>\n",
              "      <td>-8.587218e-02</td>\n",
              "      <td>-5.426265e-01</td>\n",
              "      <td>-7.790298e-02</td>\n",
              "    </tr>\n",
              "    <tr>\n",
              "      <th>max</th>\n",
              "      <td>2.685371e+00</td>\n",
              "      <td>3.802939e+00</td>\n",
              "      <td>1.609651e+00</td>\n",
              "      <td>4.515038e+00</td>\n",
              "      <td>6.324013</td>\n",
              "      <td>3.457759e+00</td>\n",
              "      <td>2.061828e+00</td>\n",
              "      <td>3.839531e+01</td>\n",
              "      <td>6.072067e+01</td>\n",
              "      <td>NaN</td>\n",
              "      <td>...</td>\n",
              "      <td>7.337589e+00</td>\n",
              "      <td>2.725763e+00</td>\n",
              "      <td>7.743303e+00</td>\n",
              "      <td>25.875578</td>\n",
              "      <td>2.111943e+01</td>\n",
              "      <td>5.268435e+00</td>\n",
              "      <td>1.925006e+00</td>\n",
              "      <td>1.164443e+01</td>\n",
              "      <td>1.842763e+00</td>\n",
              "      <td>1.283561e+01</td>\n",
              "    </tr>\n",
              "  </tbody>\n",
              "</table>\n",
              "<p>8 rows × 1707 columns</p>\n",
              "</div>\n",
              "    <div class=\"colab-df-buttons\">\n",
              "\n",
              "  <div class=\"colab-df-container\">\n",
              "    <button class=\"colab-df-convert\" onclick=\"convertToInteractive('df-2627a827-5d8d-468b-a2fe-1aeb83aad8c1')\"\n",
              "            title=\"Convert this dataframe to an interactive table.\"\n",
              "            style=\"display:none;\">\n",
              "\n",
              "  <svg xmlns=\"http://www.w3.org/2000/svg\" height=\"24px\" viewBox=\"0 -960 960 960\">\n",
              "    <path d=\"M120-120v-720h720v720H120Zm60-500h600v-160H180v160Zm220 220h160v-160H400v160Zm0 220h160v-160H400v160ZM180-400h160v-160H180v160Zm440 0h160v-160H620v160ZM180-180h160v-160H180v160Zm440 0h160v-160H620v160Z\"/>\n",
              "  </svg>\n",
              "    </button>\n",
              "\n",
              "  <style>\n",
              "    .colab-df-container {\n",
              "      display:flex;\n",
              "      gap: 12px;\n",
              "    }\n",
              "\n",
              "    .colab-df-convert {\n",
              "      background-color: #E8F0FE;\n",
              "      border: none;\n",
              "      border-radius: 50%;\n",
              "      cursor: pointer;\n",
              "      display: none;\n",
              "      fill: #1967D2;\n",
              "      height: 32px;\n",
              "      padding: 0 0 0 0;\n",
              "      width: 32px;\n",
              "    }\n",
              "\n",
              "    .colab-df-convert:hover {\n",
              "      background-color: #E2EBFA;\n",
              "      box-shadow: 0px 1px 2px rgba(60, 64, 67, 0.3), 0px 1px 3px 1px rgba(60, 64, 67, 0.15);\n",
              "      fill: #174EA6;\n",
              "    }\n",
              "\n",
              "    .colab-df-buttons div {\n",
              "      margin-bottom: 4px;\n",
              "    }\n",
              "\n",
              "    [theme=dark] .colab-df-convert {\n",
              "      background-color: #3B4455;\n",
              "      fill: #D2E3FC;\n",
              "    }\n",
              "\n",
              "    [theme=dark] .colab-df-convert:hover {\n",
              "      background-color: #434B5C;\n",
              "      box-shadow: 0px 1px 3px 1px rgba(0, 0, 0, 0.15);\n",
              "      filter: drop-shadow(0px 1px 2px rgba(0, 0, 0, 0.3));\n",
              "      fill: #FFFFFF;\n",
              "    }\n",
              "  </style>\n",
              "\n",
              "    <script>\n",
              "      const buttonEl =\n",
              "        document.querySelector('#df-2627a827-5d8d-468b-a2fe-1aeb83aad8c1 button.colab-df-convert');\n",
              "      buttonEl.style.display =\n",
              "        google.colab.kernel.accessAllowed ? 'block' : 'none';\n",
              "\n",
              "      async function convertToInteractive(key) {\n",
              "        const element = document.querySelector('#df-2627a827-5d8d-468b-a2fe-1aeb83aad8c1');\n",
              "        const dataTable =\n",
              "          await google.colab.kernel.invokeFunction('convertToInteractive',\n",
              "                                                    [key], {});\n",
              "        if (!dataTable) return;\n",
              "\n",
              "        const docLinkHtml = 'Like what you see? Visit the ' +\n",
              "          '<a target=\"_blank\" href=https://colab.research.google.com/notebooks/data_table.ipynb>data table notebook</a>'\n",
              "          + ' to learn more about interactive tables.';\n",
              "        element.innerHTML = '';\n",
              "        dataTable['output_type'] = 'display_data';\n",
              "        await google.colab.output.renderOutput(dataTable, element);\n",
              "        const docLink = document.createElement('div');\n",
              "        docLink.innerHTML = docLinkHtml;\n",
              "        element.appendChild(docLink);\n",
              "      }\n",
              "    </script>\n",
              "  </div>\n",
              "\n",
              "\n",
              "<div id=\"df-baddb8c1-1edd-49d1-809a-410a06d83eed\">\n",
              "  <button class=\"colab-df-quickchart\" onclick=\"quickchart('df-baddb8c1-1edd-49d1-809a-410a06d83eed')\"\n",
              "            title=\"Suggest charts\"\n",
              "            style=\"display:none;\">\n",
              "\n",
              "<svg xmlns=\"http://www.w3.org/2000/svg\" height=\"24px\"viewBox=\"0 0 24 24\"\n",
              "     width=\"24px\">\n",
              "    <g>\n",
              "        <path d=\"M19 3H5c-1.1 0-2 .9-2 2v14c0 1.1.9 2 2 2h14c1.1 0 2-.9 2-2V5c0-1.1-.9-2-2-2zM9 17H7v-7h2v7zm4 0h-2V7h2v10zm4 0h-2v-4h2v4z\"/>\n",
              "    </g>\n",
              "</svg>\n",
              "  </button>\n",
              "\n",
              "<style>\n",
              "  .colab-df-quickchart {\n",
              "      --bg-color: #E8F0FE;\n",
              "      --fill-color: #1967D2;\n",
              "      --hover-bg-color: #E2EBFA;\n",
              "      --hover-fill-color: #174EA6;\n",
              "      --disabled-fill-color: #AAA;\n",
              "      --disabled-bg-color: #DDD;\n",
              "  }\n",
              "\n",
              "  [theme=dark] .colab-df-quickchart {\n",
              "      --bg-color: #3B4455;\n",
              "      --fill-color: #D2E3FC;\n",
              "      --hover-bg-color: #434B5C;\n",
              "      --hover-fill-color: #FFFFFF;\n",
              "      --disabled-bg-color: #3B4455;\n",
              "      --disabled-fill-color: #666;\n",
              "  }\n",
              "\n",
              "  .colab-df-quickchart {\n",
              "    background-color: var(--bg-color);\n",
              "    border: none;\n",
              "    border-radius: 50%;\n",
              "    cursor: pointer;\n",
              "    display: none;\n",
              "    fill: var(--fill-color);\n",
              "    height: 32px;\n",
              "    padding: 0;\n",
              "    width: 32px;\n",
              "  }\n",
              "\n",
              "  .colab-df-quickchart:hover {\n",
              "    background-color: var(--hover-bg-color);\n",
              "    box-shadow: 0 1px 2px rgba(60, 64, 67, 0.3), 0 1px 3px 1px rgba(60, 64, 67, 0.15);\n",
              "    fill: var(--button-hover-fill-color);\n",
              "  }\n",
              "\n",
              "  .colab-df-quickchart-complete:disabled,\n",
              "  .colab-df-quickchart-complete:disabled:hover {\n",
              "    background-color: var(--disabled-bg-color);\n",
              "    fill: var(--disabled-fill-color);\n",
              "    box-shadow: none;\n",
              "  }\n",
              "\n",
              "  .colab-df-spinner {\n",
              "    border: 2px solid var(--fill-color);\n",
              "    border-color: transparent;\n",
              "    border-bottom-color: var(--fill-color);\n",
              "    animation:\n",
              "      spin 1s steps(1) infinite;\n",
              "  }\n",
              "\n",
              "  @keyframes spin {\n",
              "    0% {\n",
              "      border-color: transparent;\n",
              "      border-bottom-color: var(--fill-color);\n",
              "      border-left-color: var(--fill-color);\n",
              "    }\n",
              "    20% {\n",
              "      border-color: transparent;\n",
              "      border-left-color: var(--fill-color);\n",
              "      border-top-color: var(--fill-color);\n",
              "    }\n",
              "    30% {\n",
              "      border-color: transparent;\n",
              "      border-left-color: var(--fill-color);\n",
              "      border-top-color: var(--fill-color);\n",
              "      border-right-color: var(--fill-color);\n",
              "    }\n",
              "    40% {\n",
              "      border-color: transparent;\n",
              "      border-right-color: var(--fill-color);\n",
              "      border-top-color: var(--fill-color);\n",
              "    }\n",
              "    60% {\n",
              "      border-color: transparent;\n",
              "      border-right-color: var(--fill-color);\n",
              "    }\n",
              "    80% {\n",
              "      border-color: transparent;\n",
              "      border-right-color: var(--fill-color);\n",
              "      border-bottom-color: var(--fill-color);\n",
              "    }\n",
              "    90% {\n",
              "      border-color: transparent;\n",
              "      border-bottom-color: var(--fill-color);\n",
              "    }\n",
              "  }\n",
              "</style>\n",
              "\n",
              "  <script>\n",
              "    async function quickchart(key) {\n",
              "      const quickchartButtonEl =\n",
              "        document.querySelector('#' + key + ' button');\n",
              "      quickchartButtonEl.disabled = true;  // To prevent multiple clicks.\n",
              "      quickchartButtonEl.classList.add('colab-df-spinner');\n",
              "      try {\n",
              "        const charts = await google.colab.kernel.invokeFunction(\n",
              "            'suggestCharts', [key], {});\n",
              "      } catch (error) {\n",
              "        console.error('Error during call to suggestCharts:', error);\n",
              "      }\n",
              "      quickchartButtonEl.classList.remove('colab-df-spinner');\n",
              "      quickchartButtonEl.classList.add('colab-df-quickchart-complete');\n",
              "    }\n",
              "    (() => {\n",
              "      let quickchartButtonEl =\n",
              "        document.querySelector('#df-baddb8c1-1edd-49d1-809a-410a06d83eed button');\n",
              "      quickchartButtonEl.style.display =\n",
              "        google.colab.kernel.accessAllowed ? 'block' : 'none';\n",
              "    })();\n",
              "  </script>\n",
              "</div>\n",
              "    </div>\n",
              "  </div>\n"
            ]
          },
          "metadata": {},
          "execution_count": 24
        }
      ]
    },
    {
      "cell_type": "markdown",
      "source": [
        "##5. Разбиение выборки на обучающую и тестовую"
      ],
      "metadata": {
        "id": "M99tQUg_xry2"
      }
    },
    {
      "cell_type": "code",
      "source": [
        "x = dataset_normalized.drop(['Price'], axis=1)\n",
        "y = dataset['Price']\n",
        "x_train, x_test, y_train, y_test = sklearn.model_selection.train_test_split(x, y, test_size=0.2, random_state=42)\n",
        "\n",
        "N_train, _ = x_train.shape\n",
        "N_test,  _ = x_test.shape"
      ],
      "metadata": {
        "id": "edypRUi63Z8E"
      },
      "execution_count": 25,
      "outputs": []
    },
    {
      "cell_type": "markdown",
      "source": [
        "##6. Регрессия с LASSO"
      ],
      "metadata": {
        "id": "1dSCwbn7IGN1"
      }
    },
    {
      "cell_type": "markdown",
      "source": [
        "Регрессия с LASSO - регуляризованная модель, устойчивая к зашумленным данным. Полезна при наличии большого числа признаков."
      ],
      "metadata": {
        "id": "HGAcAscVVt_Z"
      }
    },
    {
      "cell_type": "code",
      "source": [
        "from sklearn.linear_model import Lasso\n",
        "from sklearn.model_selection import train_test_split\n",
        "\n",
        "from sklearn.impute import SimpleImputer\n",
        "imputer = SimpleImputer()\n",
        "\n",
        "x_train = imputer.fit_transform(x_train)\n",
        "\n",
        "lasso = Lasso(alpha=0.1)\n",
        "lasso.fit(x_train, y_train)"
      ],
      "metadata": {
        "colab": {
          "base_uri": "https://localhost:8080/",
          "height": 129
        },
        "id": "DnLI0y9QIIL1",
        "outputId": "06bba6aa-e001-4898-9e8d-7a49a3e506be"
      },
      "execution_count": 26,
      "outputs": [
        {
          "output_type": "stream",
          "name": "stderr",
          "text": [
            "/usr/local/lib/python3.10/dist-packages/sklearn/linear_model/_coordinate_descent.py:631: ConvergenceWarning: Objective did not converge. You might want to increase the number of iterations, check the scale of the features or consider increasing regularisation. Duality gap: 3.055e+10, tolerance: 9.940e+07\n",
            "  model = cd_fast.enet_coordinate_descent(\n"
          ]
        },
        {
          "output_type": "execute_result",
          "data": {
            "text/plain": [
              "Lasso(alpha=0.1)"
            ],
            "text/html": [
              "<style>#sk-container-id-1 {color: black;background-color: white;}#sk-container-id-1 pre{padding: 0;}#sk-container-id-1 div.sk-toggleable {background-color: white;}#sk-container-id-1 label.sk-toggleable__label {cursor: pointer;display: block;width: 100%;margin-bottom: 0;padding: 0.3em;box-sizing: border-box;text-align: center;}#sk-container-id-1 label.sk-toggleable__label-arrow:before {content: \"▸\";float: left;margin-right: 0.25em;color: #696969;}#sk-container-id-1 label.sk-toggleable__label-arrow:hover:before {color: black;}#sk-container-id-1 div.sk-estimator:hover label.sk-toggleable__label-arrow:before {color: black;}#sk-container-id-1 div.sk-toggleable__content {max-height: 0;max-width: 0;overflow: hidden;text-align: left;background-color: #f0f8ff;}#sk-container-id-1 div.sk-toggleable__content pre {margin: 0.2em;color: black;border-radius: 0.25em;background-color: #f0f8ff;}#sk-container-id-1 input.sk-toggleable__control:checked~div.sk-toggleable__content {max-height: 200px;max-width: 100%;overflow: auto;}#sk-container-id-1 input.sk-toggleable__control:checked~label.sk-toggleable__label-arrow:before {content: \"▾\";}#sk-container-id-1 div.sk-estimator input.sk-toggleable__control:checked~label.sk-toggleable__label {background-color: #d4ebff;}#sk-container-id-1 div.sk-label input.sk-toggleable__control:checked~label.sk-toggleable__label {background-color: #d4ebff;}#sk-container-id-1 input.sk-hidden--visually {border: 0;clip: rect(1px 1px 1px 1px);clip: rect(1px, 1px, 1px, 1px);height: 1px;margin: -1px;overflow: hidden;padding: 0;position: absolute;width: 1px;}#sk-container-id-1 div.sk-estimator {font-family: monospace;background-color: #f0f8ff;border: 1px dotted black;border-radius: 0.25em;box-sizing: border-box;margin-bottom: 0.5em;}#sk-container-id-1 div.sk-estimator:hover {background-color: #d4ebff;}#sk-container-id-1 div.sk-parallel-item::after {content: \"\";width: 100%;border-bottom: 1px solid gray;flex-grow: 1;}#sk-container-id-1 div.sk-label:hover label.sk-toggleable__label {background-color: #d4ebff;}#sk-container-id-1 div.sk-serial::before {content: \"\";position: absolute;border-left: 1px solid gray;box-sizing: border-box;top: 0;bottom: 0;left: 50%;z-index: 0;}#sk-container-id-1 div.sk-serial {display: flex;flex-direction: column;align-items: center;background-color: white;padding-right: 0.2em;padding-left: 0.2em;position: relative;}#sk-container-id-1 div.sk-item {position: relative;z-index: 1;}#sk-container-id-1 div.sk-parallel {display: flex;align-items: stretch;justify-content: center;background-color: white;position: relative;}#sk-container-id-1 div.sk-item::before, #sk-container-id-1 div.sk-parallel-item::before {content: \"\";position: absolute;border-left: 1px solid gray;box-sizing: border-box;top: 0;bottom: 0;left: 50%;z-index: -1;}#sk-container-id-1 div.sk-parallel-item {display: flex;flex-direction: column;z-index: 1;position: relative;background-color: white;}#sk-container-id-1 div.sk-parallel-item:first-child::after {align-self: flex-end;width: 50%;}#sk-container-id-1 div.sk-parallel-item:last-child::after {align-self: flex-start;width: 50%;}#sk-container-id-1 div.sk-parallel-item:only-child::after {width: 0;}#sk-container-id-1 div.sk-dashed-wrapped {border: 1px dashed gray;margin: 0 0.4em 0.5em 0.4em;box-sizing: border-box;padding-bottom: 0.4em;background-color: white;}#sk-container-id-1 div.sk-label label {font-family: monospace;font-weight: bold;display: inline-block;line-height: 1.2em;}#sk-container-id-1 div.sk-label-container {text-align: center;}#sk-container-id-1 div.sk-container {/* jupyter's `normalize.less` sets `[hidden] { display: none; }` but bootstrap.min.css set `[hidden] { display: none !important; }` so we also need the `!important` here to be able to override the default hidden behavior on the sphinx rendered scikit-learn.org. See: https://github.com/scikit-learn/scikit-learn/issues/21755 */display: inline-block !important;position: relative;}#sk-container-id-1 div.sk-text-repr-fallback {display: none;}</style><div id=\"sk-container-id-1\" class=\"sk-top-container\"><div class=\"sk-text-repr-fallback\"><pre>Lasso(alpha=0.1)</pre><b>In a Jupyter environment, please rerun this cell to show the HTML representation or trust the notebook. <br />On GitHub, the HTML representation is unable to render, please try loading this page with nbviewer.org.</b></div><div class=\"sk-container\" hidden><div class=\"sk-item\"><div class=\"sk-estimator sk-toggleable\"><input class=\"sk-toggleable__control sk-hidden--visually\" id=\"sk-estimator-id-1\" type=\"checkbox\" checked><label for=\"sk-estimator-id-1\" class=\"sk-toggleable__label sk-toggleable__label-arrow\">Lasso</label><div class=\"sk-toggleable__content\"><pre>Lasso(alpha=0.1)</pre></div></div></div></div></div>"
            ]
          },
          "metadata": {},
          "execution_count": 26
        }
      ]
    },
    {
      "cell_type": "code",
      "source": [
        "y_train_predict = lasso.predict(x_train)\n",
        "RSS = ((y_train_predict - y_train)**2).sum()\n",
        "RSS/N_train, (RSS/N_train)**.5"
      ],
      "metadata": {
        "colab": {
          "base_uri": "https://localhost:8080/"
        },
        "id": "GvVAYaqRIfFu",
        "outputId": "9dd6aa0d-6094-4ee9-894e-e9d7e41c0db1"
      },
      "execution_count": 27,
      "outputs": [
        {
          "output_type": "execute_result",
          "data": {
            "text/plain": [
              "(40972945.351014316, 6401.01127565124)"
            ]
          },
          "metadata": {},
          "execution_count": 27
        }
      ]
    },
    {
      "cell_type": "code",
      "source": [
        "x_test = imputer.fit_transform(x_test)"
      ],
      "metadata": {
        "id": "uA1fyPGJFlaN"
      },
      "execution_count": 28,
      "outputs": []
    },
    {
      "cell_type": "code",
      "source": [
        "y_train_predict = lasso.predict(x_train)\n",
        "y_test_predict  = lasso.predict(x_test)"
      ],
      "metadata": {
        "id": "DV_USPS1F201"
      },
      "execution_count": 29,
      "outputs": []
    },
    {
      "cell_type": "code",
      "source": [
        "from sklearn.metrics import mean_squared_error, r2_score\n",
        "\n",
        "MSE_train = mean_squared_error(y_train, y_train_predict)\n",
        "MSE_test  = mean_squared_error(y_test,  y_test_predict)\n",
        "R2_train = r2_score(y_train, y_train_predict)\n",
        "R2_test  = r2_score(y_test,  y_test_predict)\n",
        "\n",
        "MSE_train, MSE_test, R2_train, R2_test"
      ],
      "metadata": {
        "colab": {
          "base_uri": "https://localhost:8080/"
        },
        "id": "sSf6PFfVGCnc",
        "outputId": "8aa99ff3-d034-42b4-bfcf-9a0a8a915c47"
      },
      "execution_count": 30,
      "outputs": [
        {
          "output_type": "execute_result",
          "data": {
            "text/plain": [
              "(40972945.351014316,\n",
              " 44557300.481660485,\n",
              " 0.5135168989567054,\n",
              " 0.45389947011520415)"
            ]
          },
          "metadata": {},
          "execution_count": 30
        }
      ]
    },
    {
      "cell_type": "code",
      "source": [
        "MSE_train = ((y_train_predict - y_train)**2).mean()\n",
        "MSE_test  = ((y_test_predict - y_test)**2).mean()\n",
        "MSE_train, MSE_test"
      ],
      "metadata": {
        "colab": {
          "base_uri": "https://localhost:8080/"
        },
        "id": "1b4gKsV5QVX6",
        "outputId": "157eb1ef-1672-4c6e-8549-894ccaa44808"
      },
      "execution_count": 31,
      "outputs": [
        {
          "output_type": "execute_result",
          "data": {
            "text/plain": [
              "(40972945.351014316, 44557300.481660485)"
            ]
          },
          "metadata": {},
          "execution_count": 31
        }
      ]
    },
    {
      "cell_type": "code",
      "source": [
        "lasso.score(x_train, y_train) # Коэффициент детерминации R^2"
      ],
      "metadata": {
        "colab": {
          "base_uri": "https://localhost:8080/"
        },
        "id": "UNz1TCJBTJ4J",
        "outputId": "713d594f-1cde-4cdd-f67c-5b60a32d6b38"
      },
      "execution_count": 32,
      "outputs": [
        {
          "output_type": "execute_result",
          "data": {
            "text/plain": [
              "0.5135168989567054"
            ]
          },
          "metadata": {},
          "execution_count": 32
        }
      ]
    },
    {
      "cell_type": "code",
      "source": [
        "RMSE_train = (MSE_train)**(.5)\n",
        "RMSE_test = (MSE_test)**(.5)\n",
        "RMSE_train, RMSE_test"
      ],
      "metadata": {
        "colab": {
          "base_uri": "https://localhost:8080/"
        },
        "id": "PJ7-_oSPT86I",
        "outputId": "dec43e36-3248-4422-f277-17bcd0f40660"
      },
      "execution_count": 33,
      "outputs": [
        {
          "output_type": "execute_result",
          "data": {
            "text/plain": [
              "(6401.01127565124, 6675.12550306438)"
            ]
          },
          "metadata": {},
          "execution_count": 33
        }
      ]
    },
    {
      "cell_type": "markdown",
      "source": [
        "##7. Градиентный бустинг регрессии"
      ],
      "metadata": {
        "id": "VhzGnGWnV8IB"
      }
    },
    {
      "cell_type": "markdown",
      "source": [
        " Градиентный бустинг регрессии подходит для предсказания числовых значений"
      ],
      "metadata": {
        "id": "yL3T8R8xYXhJ"
      }
    },
    {
      "cell_type": "code",
      "source": [
        "from sklearn.ensemble import GradientBoostingRegressor\n",
        "from sklearn.datasets import make_regression"
      ],
      "metadata": {
        "id": "bUHslRnJWCnS"
      },
      "execution_count": 34,
      "outputs": []
    },
    {
      "cell_type": "code",
      "source": [
        "reg = GradientBoostingRegressor(n_estimators=100, learning_rate=0.1, max_depth=3)\n",
        "reg.fit(x_train, y_train)\n",
        "\n",
        "predictions = reg.predict(x_test)\n",
        "\n",
        "#RMSE\n",
        "np.sqrt(mean_squared_error(y_test, predictions))"
      ],
      "metadata": {
        "colab": {
          "base_uri": "https://localhost:8080/"
        },
        "id": "qhDjC5FsWcLo",
        "outputId": "7f2f3890-2d2b-45a0-e999-331bbeb133bc"
      },
      "execution_count": 35,
      "outputs": [
        {
          "output_type": "execute_result",
          "data": {
            "text/plain": [
              "5695.930534444061"
            ]
          },
          "metadata": {},
          "execution_count": 35
        }
      ]
    },
    {
      "cell_type": "markdown",
      "source": [
        "#Выводы\n",
        "- ошибка градиентного бустинга регрессии меньше, чем для регрессии с LASSO\n",
        "- нет такого признака, который бы вносил заметно больший вклад в итоговую стоимость, чем остальные"
      ],
      "metadata": {
        "id": "-0YZ-A8JW3-h"
      }
    }
  ]
}